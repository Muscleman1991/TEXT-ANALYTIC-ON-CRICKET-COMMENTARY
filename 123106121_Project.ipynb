{
 "cells": [
  {
   "cell_type": "markdown",
   "metadata": {},
   "source": [
    "# Importing Data Set\n"
   ]
  },
  {
   "cell_type": "code",
   "execution_count": 1,
   "metadata": {},
   "outputs": [],
   "source": [
    "import pandas as pd\n"
   ]
  },
  {
   "cell_type": "code",
   "execution_count": 2,
   "metadata": {},
   "outputs": [],
   "source": [
    "main_data=pd.read_csv(\"dataset.csv\")"
   ]
  },
  {
   "cell_type": "markdown",
   "metadata": {},
   "source": [
    "# Making data clear"
   ]
  },
  {
   "cell_type": "code",
   "execution_count": 3,
   "metadata": {},
   "outputs": [],
   "source": [
    "re_data=main_data.drop(main_data.columns[[0,1,2,3,4,5,6,7,8,9,10,11,12]], axis=1)"
   ]
  },
  {
   "cell_type": "code",
   "execution_count": 4,
   "metadata": {},
   "outputs": [
    {
     "data": {
      "text/html": [
       "<div>\n",
       "<style scoped>\n",
       "    .dataframe tbody tr th:only-of-type {\n",
       "        vertical-align: middle;\n",
       "    }\n",
       "\n",
       "    .dataframe tbody tr th {\n",
       "        vertical-align: top;\n",
       "    }\n",
       "\n",
       "    .dataframe thead th {\n",
       "        text-align: right;\n",
       "    }\n",
       "</style>\n",
       "<table border=\"1\" class=\"dataframe\">\n",
       "  <thead>\n",
       "    <tr style=\"text-align: right;\">\n",
       "      <th></th>\n",
       "      <th>ICC_ID</th>\n",
       "      <th>Inning.1</th>\n",
       "      <th>cBalls</th>\n",
       "      <th>Score</th>\n",
       "      <th>Commentary</th>\n",
       "    </tr>\n",
       "  </thead>\n",
       "  <tbody>\n",
       "    <tr>\n",
       "      <th>0</th>\n",
       "      <td>2388</td>\n",
       "      <td>1</td>\n",
       "      <td>0.1</td>\n",
       "      <td>0</td>\n",
       "      <td>Harmison to Tharanga, no run, feisty start fro...</td>\n",
       "    </tr>\n",
       "    <tr>\n",
       "      <th>1</th>\n",
       "      <td>2388</td>\n",
       "      <td>1</td>\n",
       "      <td>0.2</td>\n",
       "      <td>0</td>\n",
       "      <td>Harmison to Tharanga, no run, swinging across ...</td>\n",
       "    </tr>\n",
       "    <tr>\n",
       "      <th>2</th>\n",
       "      <td>2388</td>\n",
       "      <td>1</td>\n",
       "      <td>0.3</td>\n",
       "      <td>1w</td>\n",
       "      <td>Harmison to Tharanga, 1 wide, here we go again...</td>\n",
       "    </tr>\n",
       "    <tr>\n",
       "      <th>3</th>\n",
       "      <td>2388</td>\n",
       "      <td>1</td>\n",
       "      <td>0.3</td>\n",
       "      <td>1w</td>\n",
       "      <td>Harmison to Tharanga, 1 wide, ... and again. H...</td>\n",
       "    </tr>\n",
       "    <tr>\n",
       "      <th>4</th>\n",
       "      <td>2388</td>\n",
       "      <td>1</td>\n",
       "      <td>0.3</td>\n",
       "      <td>1</td>\n",
       "      <td>Harmison to Tharanga, 1 run, driven unconvinci...</td>\n",
       "    </tr>\n",
       "  </tbody>\n",
       "</table>\n",
       "</div>"
      ],
      "text/plain": [
       "   ICC_ID  Inning.1  cBalls Score  \\\n",
       "0    2388         1     0.1     0   \n",
       "1    2388         1     0.2     0   \n",
       "2    2388         1     0.3    1w   \n",
       "3    2388         1     0.3    1w   \n",
       "4    2388         1     0.3     1   \n",
       "\n",
       "                                          Commentary  \n",
       "0  Harmison to Tharanga, no run, feisty start fro...  \n",
       "1  Harmison to Tharanga, no run, swinging across ...  \n",
       "2  Harmison to Tharanga, 1 wide, here we go again...  \n",
       "3  Harmison to Tharanga, 1 wide, ... and again. H...  \n",
       "4  Harmison to Tharanga, 1 run, driven unconvinci...  "
      ]
     },
     "execution_count": 4,
     "metadata": {},
     "output_type": "execute_result"
    }
   ],
   "source": [
    "re_data.head()"
   ]
  },
  {
   "cell_type": "markdown",
   "metadata": {},
   "source": [
    "# Taking out Bowler and Batsman from commentary part using Split technique."
   ]
  },
  {
   "cell_type": "code",
   "execution_count": 5,
   "metadata": {},
   "outputs": [],
   "source": [
    "rr=re_data['Commentary'].str.split(\" \",n=3,expand=True)"
   ]
  },
  {
   "cell_type": "code",
   "execution_count": 6,
   "metadata": {},
   "outputs": [
    {
     "data": {
      "text/html": [
       "<div>\n",
       "<style scoped>\n",
       "    .dataframe tbody tr th:only-of-type {\n",
       "        vertical-align: middle;\n",
       "    }\n",
       "\n",
       "    .dataframe tbody tr th {\n",
       "        vertical-align: top;\n",
       "    }\n",
       "\n",
       "    .dataframe thead th {\n",
       "        text-align: right;\n",
       "    }\n",
       "</style>\n",
       "<table border=\"1\" class=\"dataframe\">\n",
       "  <thead>\n",
       "    <tr style=\"text-align: right;\">\n",
       "      <th></th>\n",
       "      <th>0</th>\n",
       "      <th>1</th>\n",
       "      <th>2</th>\n",
       "      <th>3</th>\n",
       "    </tr>\n",
       "  </thead>\n",
       "  <tbody>\n",
       "    <tr>\n",
       "      <th>0</th>\n",
       "      <td>Harmison</td>\n",
       "      <td>to</td>\n",
       "      <td>Tharanga,</td>\n",
       "      <td>no run, feisty start from Harmison, short and ...</td>\n",
       "    </tr>\n",
       "    <tr>\n",
       "      <th>1</th>\n",
       "      <td>Harmison</td>\n",
       "      <td>to</td>\n",
       "      <td>Tharanga,</td>\n",
       "      <td>no run, swinging across the left-hander and sa...</td>\n",
       "    </tr>\n",
       "    <tr>\n",
       "      <th>2</th>\n",
       "      <td>Harmison</td>\n",
       "      <td>to</td>\n",
       "      <td>Tharanga,</td>\n",
       "      <td>1 wide, here we go again. wide down the leg side</td>\n",
       "    </tr>\n",
       "    <tr>\n",
       "      <th>3</th>\n",
       "      <td>Harmison</td>\n",
       "      <td>to</td>\n",
       "      <td>Tharanga,</td>\n",
       "      <td>1 wide, ... and again. Harmison really struggl...</td>\n",
       "    </tr>\n",
       "    <tr>\n",
       "      <th>4</th>\n",
       "      <td>Harmison</td>\n",
       "      <td>to</td>\n",
       "      <td>Tharanga,</td>\n",
       "      <td>1 run, driven unconvincingly through the vacan...</td>\n",
       "    </tr>\n",
       "  </tbody>\n",
       "</table>\n",
       "</div>"
      ],
      "text/plain": [
       "          0   1          2                                                  3\n",
       "0  Harmison  to  Tharanga,  no run, feisty start from Harmison, short and ...\n",
       "1  Harmison  to  Tharanga,  no run, swinging across the left-hander and sa...\n",
       "2  Harmison  to  Tharanga,   1 wide, here we go again. wide down the leg side\n",
       "3  Harmison  to  Tharanga,  1 wide, ... and again. Harmison really struggl...\n",
       "4  Harmison  to  Tharanga,  1 run, driven unconvincingly through the vacan..."
      ]
     },
     "execution_count": 6,
     "metadata": {},
     "output_type": "execute_result"
    }
   ],
   "source": [
    "rr.head()"
   ]
  },
  {
   "cell_type": "code",
   "execution_count": 7,
   "metadata": {},
   "outputs": [],
   "source": [
    "data2=rr[0]\n",
    "data3=rr[2]\n",
    "data_nw=pd.DataFrame(data2)\n",
    "data_nw1=pd.DataFrame(data3)\n"
   ]
  },
  {
   "cell_type": "code",
   "execution_count": 8,
   "metadata": {},
   "outputs": [
    {
     "data": {
      "text/html": [
       "<div>\n",
       "<style scoped>\n",
       "    .dataframe tbody tr th:only-of-type {\n",
       "        vertical-align: middle;\n",
       "    }\n",
       "\n",
       "    .dataframe tbody tr th {\n",
       "        vertical-align: top;\n",
       "    }\n",
       "\n",
       "    .dataframe thead th {\n",
       "        text-align: right;\n",
       "    }\n",
       "</style>\n",
       "<table border=\"1\" class=\"dataframe\">\n",
       "  <thead>\n",
       "    <tr style=\"text-align: right;\">\n",
       "      <th></th>\n",
       "      <th>ICC_ID</th>\n",
       "      <th>Inning.1</th>\n",
       "      <th>cBalls</th>\n",
       "      <th>Score</th>\n",
       "      <th>Commentary</th>\n",
       "      <th>Bowler</th>\n",
       "      <th>Batsman</th>\n",
       "    </tr>\n",
       "  </thead>\n",
       "  <tbody>\n",
       "    <tr>\n",
       "      <th>0</th>\n",
       "      <td>2388</td>\n",
       "      <td>1</td>\n",
       "      <td>0.1</td>\n",
       "      <td>0</td>\n",
       "      <td>Harmison to Tharanga, no run, feisty start fro...</td>\n",
       "      <td>Harmison</td>\n",
       "      <td>Tharanga,</td>\n",
       "    </tr>\n",
       "    <tr>\n",
       "      <th>1</th>\n",
       "      <td>2388</td>\n",
       "      <td>1</td>\n",
       "      <td>0.2</td>\n",
       "      <td>0</td>\n",
       "      <td>Harmison to Tharanga, no run, swinging across ...</td>\n",
       "      <td>Harmison</td>\n",
       "      <td>Tharanga,</td>\n",
       "    </tr>\n",
       "    <tr>\n",
       "      <th>2</th>\n",
       "      <td>2388</td>\n",
       "      <td>1</td>\n",
       "      <td>0.3</td>\n",
       "      <td>1w</td>\n",
       "      <td>Harmison to Tharanga, 1 wide, here we go again...</td>\n",
       "      <td>Harmison</td>\n",
       "      <td>Tharanga,</td>\n",
       "    </tr>\n",
       "    <tr>\n",
       "      <th>3</th>\n",
       "      <td>2388</td>\n",
       "      <td>1</td>\n",
       "      <td>0.3</td>\n",
       "      <td>1w</td>\n",
       "      <td>Harmison to Tharanga, 1 wide, ... and again. H...</td>\n",
       "      <td>Harmison</td>\n",
       "      <td>Tharanga,</td>\n",
       "    </tr>\n",
       "    <tr>\n",
       "      <th>4</th>\n",
       "      <td>2388</td>\n",
       "      <td>1</td>\n",
       "      <td>0.3</td>\n",
       "      <td>1</td>\n",
       "      <td>Harmison to Tharanga, 1 run, driven unconvinci...</td>\n",
       "      <td>Harmison</td>\n",
       "      <td>Tharanga,</td>\n",
       "    </tr>\n",
       "  </tbody>\n",
       "</table>\n",
       "</div>"
      ],
      "text/plain": [
       "   ICC_ID  Inning.1  cBalls Score  \\\n",
       "0    2388         1     0.1     0   \n",
       "1    2388         1     0.2     0   \n",
       "2    2388         1     0.3    1w   \n",
       "3    2388         1     0.3    1w   \n",
       "4    2388         1     0.3     1   \n",
       "\n",
       "                                          Commentary    Bowler    Batsman  \n",
       "0  Harmison to Tharanga, no run, feisty start fro...  Harmison  Tharanga,  \n",
       "1  Harmison to Tharanga, no run, swinging across ...  Harmison  Tharanga,  \n",
       "2  Harmison to Tharanga, 1 wide, here we go again...  Harmison  Tharanga,  \n",
       "3  Harmison to Tharanga, 1 wide, ... and again. H...  Harmison  Tharanga,  \n",
       "4  Harmison to Tharanga, 1 run, driven unconvinci...  Harmison  Tharanga,  "
      ]
     },
     "execution_count": 8,
     "metadata": {},
     "output_type": "execute_result"
    }
   ],
   "source": [
    "re_data['Bowler']=data_nw\n",
    "re_data['Batsman']=data_nw1\n",
    "re_data.head()"
   ]
  },
  {
   "cell_type": "markdown",
   "metadata": {},
   "source": [
    "# Calculating Runs of players\n"
   ]
  },
  {
   "cell_type": "code",
   "execution_count": 9,
   "metadata": {},
   "outputs": [],
   "source": [
    "#a=re_data.groupby('Batsman')\n",
    "#a.first()"
   ]
  },
  {
   "cell_type": "markdown",
   "metadata": {},
   "source": [
    "# # Now there is half name is given in commentary part so we make a csv file of team members and then we do replacement to the original name.\n"
   ]
  },
  {
   "cell_type": "code",
   "execution_count": 10,
   "metadata": {},
   "outputs": [],
   "source": [
    "raw_data = pd.read_csv(\"data.csv\", encoding = \"ISO-8859-1\", low_memory=False) "
   ]
  },
  {
   "cell_type": "code",
   "execution_count": 11,
   "metadata": {},
   "outputs": [
    {
     "data": {
      "text/html": [
       "<div>\n",
       "<style scoped>\n",
       "    .dataframe tbody tr th:only-of-type {\n",
       "        vertical-align: middle;\n",
       "    }\n",
       "\n",
       "    .dataframe tbody tr th {\n",
       "        vertical-align: top;\n",
       "    }\n",
       "\n",
       "    .dataframe thead th {\n",
       "        text-align: right;\n",
       "    }\n",
       "</style>\n",
       "<table border=\"1\" class=\"dataframe\">\n",
       "  <thead>\n",
       "    <tr style=\"text-align: right;\">\n",
       "      <th></th>\n",
       "      <th>full names</th>\n",
       "      <th>short names</th>\n",
       "      <th>team</th>\n",
       "    </tr>\n",
       "  </thead>\n",
       "  <tbody>\n",
       "    <tr>\n",
       "      <th>0</th>\n",
       "      <td>Warushavithana Upul Tharanga</td>\n",
       "      <td>W U Tharanga</td>\n",
       "      <td>sri lanka</td>\n",
       "    </tr>\n",
       "    <tr>\n",
       "      <th>1</th>\n",
       "      <td>Sanath Teran Jayasuriya</td>\n",
       "      <td>S T Jayasuriya</td>\n",
       "      <td>sri lanka</td>\n",
       "    </tr>\n",
       "    <tr>\n",
       "      <th>2</th>\n",
       "      <td>Denagamage Proboth Mahela de Silva Jayawarden</td>\n",
       "      <td>DPMD Jayawarden</td>\n",
       "      <td>sri lanka</td>\n",
       "    </tr>\n",
       "    <tr>\n",
       "      <th>3</th>\n",
       "      <td>Kumar Chokshanada Sangakkara</td>\n",
       "      <td>K C Sangakkara</td>\n",
       "      <td>sri lanka</td>\n",
       "    </tr>\n",
       "    <tr>\n",
       "      <th>4</th>\n",
       "      <td>Tillakaratne Mudiyanselage Dilshan</td>\n",
       "      <td>T M Dilshan</td>\n",
       "      <td>sri lanka</td>\n",
       "    </tr>\n",
       "  </tbody>\n",
       "</table>\n",
       "</div>"
      ],
      "text/plain": [
       "                                      full names      short names       team\n",
       "0                   Warushavithana Upul Tharanga     W U Tharanga  sri lanka\n",
       "1                        Sanath Teran Jayasuriya   S T Jayasuriya  sri lanka\n",
       "2  Denagamage Proboth Mahela de Silva Jayawarden  DPMD Jayawarden  sri lanka\n",
       "3                  Kumar Chokshanada Sangakkara   K C Sangakkara  sri lanka\n",
       "4             Tillakaratne Mudiyanselage Dilshan      T M Dilshan  sri lanka"
      ]
     },
     "execution_count": 11,
     "metadata": {},
     "output_type": "execute_result"
    }
   ],
   "source": [
    "raw_data.head()"
   ]
  },
  {
   "cell_type": "code",
   "execution_count": 249,
   "metadata": {},
   "outputs": [],
   "source": [
    "\n",
    "a=raw_data['full names'].tolist() \n",
    "b=re_data['Batsman']"
   ]
  },
  {
   "cell_type": "code",
   "execution_count": 250,
   "metadata": {},
   "outputs": [],
   "source": [
    "res = [] \n",
    "for i in re_data['Batsman']: \n",
    "    if i not in res: \n",
    "        res.append(i) "
   ]
  },
  {
   "cell_type": "code",
   "execution_count": 251,
   "metadata": {},
   "outputs": [
    {
     "data": {
      "text/plain": [
       "['Tharanga,',\n",
       " 'Jayasuriya,',\n",
       " 'Jayawardene,',\n",
       " 'Sangakkara,',\n",
       " 'Dilshan,',\n",
       " 'Arnold,',\n",
       " 'Maharoof,',\n",
       " 'Vaas,',\n",
       " 'Bandara,',\n",
       " 'Trescothick,',\n",
       " 'Cook,',\n",
       " 'Bell,',\n",
       " 'Strauss,',\n",
       " 'Dalrymple,',\n",
       " 'Solanki,',\n",
       " 'Jones,',\n",
       " 'Bresnan,',\n",
       " 'Plunkett,',\n",
       " 'Ali,',\n",
       " 'Harmison,']"
      ]
     },
     "execution_count": 251,
     "metadata": {},
     "output_type": "execute_result"
    }
   ],
   "source": [
    "res\n"
   ]
  },
  {
   "cell_type": "code",
   "execution_count": 253,
   "metadata": {},
   "outputs": [
    {
     "data": {
      "text/plain": [
       "'Warushavithana Upul Tharanga'"
      ]
     },
     "execution_count": 253,
     "metadata": {},
     "output_type": "execute_result"
    }
   ],
   "source": [
    "a[0]"
   ]
  },
  {
   "cell_type": "code",
   "execution_count": null,
   "metadata": {},
   "outputs": [],
   "source": []
  },
  {
   "cell_type": "code",
   "execution_count": null,
   "metadata": {},
   "outputs": [],
   "source": []
  },
  {
   "cell_type": "markdown",
   "metadata": {},
   "source": [
    "# Runs of the players and other features"
   ]
  },
  {
   "cell_type": "code",
   "execution_count": 16,
   "metadata": {},
   "outputs": [
    {
     "data": {
      "text/html": [
       "<div>\n",
       "<style scoped>\n",
       "    .dataframe tbody tr th:only-of-type {\n",
       "        vertical-align: middle;\n",
       "    }\n",
       "\n",
       "    .dataframe tbody tr th {\n",
       "        vertical-align: top;\n",
       "    }\n",
       "\n",
       "    .dataframe thead th {\n",
       "        text-align: right;\n",
       "    }\n",
       "</style>\n",
       "<table border=\"1\" class=\"dataframe\">\n",
       "  <thead>\n",
       "    <tr style=\"text-align: right;\">\n",
       "      <th></th>\n",
       "      <th>ICC_ID</th>\n",
       "      <th>Inning.1</th>\n",
       "      <th>cBalls</th>\n",
       "      <th>Score</th>\n",
       "      <th>Commentary</th>\n",
       "      <th>Bowler</th>\n",
       "    </tr>\n",
       "    <tr>\n",
       "      <th>Batsman</th>\n",
       "      <th></th>\n",
       "      <th></th>\n",
       "      <th></th>\n",
       "      <th></th>\n",
       "      <th></th>\n",
       "      <th></th>\n",
       "    </tr>\n",
       "  </thead>\n",
       "  <tbody>\n",
       "    <tr>\n",
       "      <th>Ali,</th>\n",
       "      <td>2388</td>\n",
       "      <td>2</td>\n",
       "      <td>47.2</td>\n",
       "      <td>W</td>\n",
       "      <td>Fernando to Ali, OUT, Kabir Ali pushes into th...</td>\n",
       "      <td>Fernando</td>\n",
       "    </tr>\n",
       "    <tr>\n",
       "      <th>Arnold,</th>\n",
       "      <td>2388</td>\n",
       "      <td>1</td>\n",
       "      <td>32.5</td>\n",
       "      <td>1</td>\n",
       "      <td>Plunkett to Arnold, 1 run,</td>\n",
       "      <td>Plunkett</td>\n",
       "    </tr>\n",
       "    <tr>\n",
       "      <th>Bandara,</th>\n",
       "      <td>2388</td>\n",
       "      <td>1</td>\n",
       "      <td>43.6</td>\n",
       "      <td>0</td>\n",
       "      <td>Plunkett to Bandara, no run, a straight ball t...</td>\n",
       "      <td>Plunkett</td>\n",
       "    </tr>\n",
       "    <tr>\n",
       "      <th>Bell,</th>\n",
       "      <td>2388</td>\n",
       "      <td>2</td>\n",
       "      <td>13.1</td>\n",
       "      <td>0</td>\n",
       "      <td>Vaas to Bell, no run,</td>\n",
       "      <td>Vaas</td>\n",
       "    </tr>\n",
       "    <tr>\n",
       "      <th>Bresnan,</th>\n",
       "      <td>2388</td>\n",
       "      <td>2</td>\n",
       "      <td>40.1</td>\n",
       "      <td>0</td>\n",
       "      <td>Malinga to Bresnan, no run,</td>\n",
       "      <td>Malinga</td>\n",
       "    </tr>\n",
       "    <tr>\n",
       "      <th>Cook,</th>\n",
       "      <td>2388</td>\n",
       "      <td>2</td>\n",
       "      <td>0.3</td>\n",
       "      <td>0</td>\n",
       "      <td>Vaas to Cook, no run,</td>\n",
       "      <td>Vaas</td>\n",
       "    </tr>\n",
       "    <tr>\n",
       "      <th>Dalrymple,</th>\n",
       "      <td>2388</td>\n",
       "      <td>2</td>\n",
       "      <td>28.3</td>\n",
       "      <td>0</td>\n",
       "      <td>Bandara to Dalrymple, no run,</td>\n",
       "      <td>Bandara</td>\n",
       "    </tr>\n",
       "    <tr>\n",
       "      <th>Dilshan,</th>\n",
       "      <td>2388</td>\n",
       "      <td>1</td>\n",
       "      <td>28.3</td>\n",
       "      <td>0</td>\n",
       "      <td>Harmison to Dilshan, no run, more steep bounce...</td>\n",
       "      <td>Harmison</td>\n",
       "    </tr>\n",
       "    <tr>\n",
       "      <th>Harmison,</th>\n",
       "      <td>2388</td>\n",
       "      <td>2</td>\n",
       "      <td>47.4</td>\n",
       "      <td>1</td>\n",
       "      <td>Fernando to Harmison, 1 run, effortlessly driv...</td>\n",
       "      <td>Fernando</td>\n",
       "    </tr>\n",
       "    <tr>\n",
       "      <th>Jayasuriya,</th>\n",
       "      <td>2388</td>\n",
       "      <td>1</td>\n",
       "      <td>0.4</td>\n",
       "      <td>1w</td>\n",
       "      <td>Harmison to Jayasuriya, 1 wide, way outside of...</td>\n",
       "      <td>Harmison</td>\n",
       "    </tr>\n",
       "    <tr>\n",
       "      <th>Jayawardene,</th>\n",
       "      <td>2388</td>\n",
       "      <td>1</td>\n",
       "      <td>4.6</td>\n",
       "      <td>2</td>\n",
       "      <td>Harmison to Jayawardene, 2 runs, Clipped off m...</td>\n",
       "      <td>Harmison</td>\n",
       "    </tr>\n",
       "    <tr>\n",
       "      <th>Jones,</th>\n",
       "      <td>2388</td>\n",
       "      <td>2</td>\n",
       "      <td>34.3</td>\n",
       "      <td>1</td>\n",
       "      <td>Bandara to Jones, 1 run,</td>\n",
       "      <td>Bandara</td>\n",
       "    </tr>\n",
       "    <tr>\n",
       "      <th>Maharoof,</th>\n",
       "      <td>2388</td>\n",
       "      <td>1</td>\n",
       "      <td>35.4</td>\n",
       "      <td>0</td>\n",
       "      <td>Bell to Maharoof, no run,</td>\n",
       "      <td>Bell</td>\n",
       "    </tr>\n",
       "    <tr>\n",
       "      <th>Plunkett,</th>\n",
       "      <td>2388</td>\n",
       "      <td>2</td>\n",
       "      <td>43.3</td>\n",
       "      <td>1</td>\n",
       "      <td>Bandara to Plunkett, 1 run, reverse swept with...</td>\n",
       "      <td>Bandara</td>\n",
       "    </tr>\n",
       "    <tr>\n",
       "      <th>Sangakkara,</th>\n",
       "      <td>2388</td>\n",
       "      <td>1</td>\n",
       "      <td>24.6</td>\n",
       "      <td>1</td>\n",
       "      <td>Dalrymple to Sangakkara, 1 run, off the mark w...</td>\n",
       "      <td>Dalrymple</td>\n",
       "    </tr>\n",
       "    <tr>\n",
       "      <th>Solanki,</th>\n",
       "      <td>2388</td>\n",
       "      <td>2</td>\n",
       "      <td>29.1</td>\n",
       "      <td>0</td>\n",
       "      <td>Dilshan to Solanki, no run,</td>\n",
       "      <td>Dilshan</td>\n",
       "    </tr>\n",
       "    <tr>\n",
       "      <th>Strauss,</th>\n",
       "      <td>2388</td>\n",
       "      <td>2</td>\n",
       "      <td>14.1</td>\n",
       "      <td>0</td>\n",
       "      <td>Fernando to Strauss, no run,</td>\n",
       "      <td>Fernando</td>\n",
       "    </tr>\n",
       "    <tr>\n",
       "      <th>Tharanga,</th>\n",
       "      <td>2388</td>\n",
       "      <td>1</td>\n",
       "      <td>0.1</td>\n",
       "      <td>0</td>\n",
       "      <td>Harmison to Tharanga, no run, feisty start fro...</td>\n",
       "      <td>Harmison</td>\n",
       "    </tr>\n",
       "    <tr>\n",
       "      <th>Trescothick,</th>\n",
       "      <td>2388</td>\n",
       "      <td>2</td>\n",
       "      <td>0.1</td>\n",
       "      <td>0</td>\n",
       "      <td>Vaas to Trescothick, no run, good shape, bends...</td>\n",
       "      <td>Vaas</td>\n",
       "    </tr>\n",
       "    <tr>\n",
       "      <th>Vaas,</th>\n",
       "      <td>2388</td>\n",
       "      <td>1</td>\n",
       "      <td>36.5</td>\n",
       "      <td>0</td>\n",
       "      <td>Dalrymple to Vaas, no run, defended outside th...</td>\n",
       "      <td>Dalrymple</td>\n",
       "    </tr>\n",
       "  </tbody>\n",
       "</table>\n",
       "</div>"
      ],
      "text/plain": [
       "              ICC_ID  Inning.1  cBalls Score  \\\n",
       "Batsman                                        \n",
       "Ali,            2388         2    47.2     W   \n",
       "Arnold,         2388         1    32.5     1   \n",
       "Bandara,        2388         1    43.6     0   \n",
       "Bell,           2388         2    13.1     0   \n",
       "Bresnan,        2388         2    40.1     0   \n",
       "Cook,           2388         2     0.3     0   \n",
       "Dalrymple,      2388         2    28.3     0   \n",
       "Dilshan,        2388         1    28.3     0   \n",
       "Harmison,       2388         2    47.4     1   \n",
       "Jayasuriya,     2388         1     0.4    1w   \n",
       "Jayawardene,    2388         1     4.6     2   \n",
       "Jones,          2388         2    34.3     1   \n",
       "Maharoof,       2388         1    35.4     0   \n",
       "Plunkett,       2388         2    43.3     1   \n",
       "Sangakkara,     2388         1    24.6     1   \n",
       "Solanki,        2388         2    29.1     0   \n",
       "Strauss,        2388         2    14.1     0   \n",
       "Tharanga,       2388         1     0.1     0   \n",
       "Trescothick,    2388         2     0.1     0   \n",
       "Vaas,           2388         1    36.5     0   \n",
       "\n",
       "                                                     Commentary     Bowler  \n",
       "Batsman                                                                     \n",
       "Ali,          Fernando to Ali, OUT, Kabir Ali pushes into th...   Fernando  \n",
       "Arnold,                             Plunkett to Arnold, 1 run,    Plunkett  \n",
       "Bandara,      Plunkett to Bandara, no run, a straight ball t...   Plunkett  \n",
       "Bell,                                    Vaas to Bell, no run,        Vaas  \n",
       "Bresnan,                           Malinga to Bresnan, no run,     Malinga  \n",
       "Cook,                                    Vaas to Cook, no run,        Vaas  \n",
       "Dalrymple,                       Bandara to Dalrymple, no run,     Bandara  \n",
       "Dilshan,      Harmison to Dilshan, no run, more steep bounce...   Harmison  \n",
       "Harmison,     Fernando to Harmison, 1 run, effortlessly driv...   Fernando  \n",
       "Jayasuriya,   Harmison to Jayasuriya, 1 wide, way outside of...   Harmison  \n",
       "Jayawardene,  Harmison to Jayawardene, 2 runs, Clipped off m...   Harmison  \n",
       "Jones,                                Bandara to Jones, 1 run,     Bandara  \n",
       "Maharoof,                            Bell to Maharoof, no run,        Bell  \n",
       "Plunkett,     Bandara to Plunkett, 1 run, reverse swept with...    Bandara  \n",
       "Sangakkara,   Dalrymple to Sangakkara, 1 run, off the mark w...  Dalrymple  \n",
       "Solanki,                           Dilshan to Solanki, no run,     Dilshan  \n",
       "Strauss,                          Fernando to Strauss, no run,    Fernando  \n",
       "Tharanga,     Harmison to Tharanga, no run, feisty start fro...   Harmison  \n",
       "Trescothick,  Vaas to Trescothick, no run, good shape, bends...       Vaas  \n",
       "Vaas,         Dalrymple to Vaas, no run, defended outside th...  Dalrymple  "
      ]
     },
     "execution_count": 16,
     "metadata": {},
     "output_type": "execute_result"
    }
   ],
   "source": [
    "aa=re_data.groupby('Batsman')\n",
    "aa.first()"
   ]
  },
  {
   "cell_type": "markdown",
   "metadata": {},
   "source": [
    "# Player_1"
   ]
  },
  {
   "cell_type": "code",
   "execution_count": 17,
   "metadata": {},
   "outputs": [],
   "source": [
    "# COnverting Batsman partial name to full name.\n",
    "new_data=re_data.replace(to_replace = res[0], value =a[0]) "
   ]
  },
  {
   "cell_type": "code",
   "execution_count": 18,
   "metadata": {},
   "outputs": [
    {
     "data": {
      "text/plain": [
       "'Tharanga,'"
      ]
     },
     "execution_count": 18,
     "metadata": {},
     "output_type": "execute_result"
    }
   ],
   "source": [
    "py1=str(res[0])\n",
    "py1"
   ]
  },
  {
   "cell_type": "code",
   "execution_count": 156,
   "metadata": {},
   "outputs": [],
   "source": [
    "\n",
    "player_1=aa.get_group(py1)\n"
   ]
  },
  {
   "cell_type": "code",
   "execution_count": 158,
   "metadata": {},
   "outputs": [],
   "source": [
    "single_run_p1=0\n",
    "double_run_p1=0\n",
    "thiree_run_p1=0\n",
    "sixes_p1=0\n",
    "foures_p1=0\n",
    "Balls_played_p1=0\n",
    "for i in player_1['Score']:\n",
    "    if(i=='1'):\n",
    "        single_run_p1=single_run_p1+1\n",
    "    \n",
    "for i in player_1['Score']:\n",
    "    if(i=='2'):\n",
    "        double_run_p1=double_run_p1+1\n",
    "        \n",
    "for i in player_1['Score']:\n",
    "    if(i=='3'):\n",
    "        thiree_run_p1=thiree_run_p1+1\n",
    "\n",
    "for i in player_1['Score']:\n",
    "    if(i=='6'):\n",
    "        sixes_p1=sixes_p1+1\n",
    "        \n",
    "for i in player_1['Score']:\n",
    "    if(i=='4'):\n",
    "        foures_p1=foures_p1+1\n",
    "        \n",
    "for i in player_1['Score']:\n",
    "    Balls_played_p1=Balls_played_p1+1\n",
    "        \n",
    "    "
   ]
  },
  {
   "cell_type": "code",
   "execution_count": 21,
   "metadata": {},
   "outputs": [
    {
     "data": {
      "text/plain": [
       "['Harmison', 'Ali', 'Bresnan', 'Plunkett', 'Dalrymple', 'Solanki']"
      ]
     },
     "execution_count": 21,
     "metadata": {},
     "output_type": "execute_result"
    }
   ],
   "source": [
    "Player_1_bowler = [] \n",
    "for i in player_1['Bowler']: \n",
    "    if i not in Player_1_bowler: \n",
    "        Player_1_bowler.append(i) \n",
    "        \n",
    "Player_1_bowler"
   ]
  },
  {
   "cell_type": "code",
   "execution_count": 103,
   "metadata": {},
   "outputs": [],
   "source": [
    "Player_inning=player_1['Inning.1'][0]\n"
   ]
  },
  {
   "cell_type": "code",
   "execution_count": 121,
   "metadata": {},
   "outputs": [],
   "source": [
    "Player_out_by = [] \n",
    "for i in player_1['Bowler']: \n",
    "        Player_out_by.append(i) \n",
    "        \n",
    "Player_1_out_by=Player_out_by[len(Player_out_by)-1]"
   ]
  },
  {
   "cell_type": "markdown",
   "metadata": {},
   "source": [
    "# Player_2"
   ]
  },
  {
   "cell_type": "code",
   "execution_count": 24,
   "metadata": {},
   "outputs": [
    {
     "data": {
      "text/plain": [
       "'Jayasuriya,'"
      ]
     },
     "execution_count": 24,
     "metadata": {},
     "output_type": "execute_result"
    }
   ],
   "source": [
    "ply2=str(res[1])\n",
    "ply2"
   ]
  },
  {
   "cell_type": "code",
   "execution_count": 25,
   "metadata": {},
   "outputs": [],
   "source": [
    "# changing partial name to full name.\n",
    "new_data1=new_data.replace(to_replace = res[1], value =a[1]) "
   ]
  },
  {
   "cell_type": "code",
   "execution_count": 159,
   "metadata": {},
   "outputs": [],
   "source": [
    "player_2=aa.get_group(ply2)\n",
    "single_run_p2=0\n",
    "double_run_p2=0\n",
    "thiree_run_p2=0\n",
    "sixes_p2=0\n",
    "foures_p2=0\n",
    "Balls_played_p2=0\n",
    "for i in player_2['Score']:\n",
    "    if(i=='1'):\n",
    "        single_run_p2=single_run_p2+1\n",
    "    \n",
    "for i in player_2['Score']:\n",
    "    if(i=='2'):\n",
    "        double_run_p2=double_run_p2+1\n",
    "        \n",
    "for i in player_2['Score']:\n",
    "    if(i=='3'):\n",
    "        thiree_run_p2=thiree_run_p2+1\n",
    "\n",
    "for i in player_2['Score']:\n",
    "    if(i=='6'):\n",
    "        sixes_p2=sixes_p2+1\n",
    "        \n",
    "for i in player_2['Score']:\n",
    "    if(i=='4'):\n",
    "        foures_p2=foures_p2+1\n",
    "        \n",
    "for i in player_2['Score']:\n",
    "    Balls_played_p2=Balls_played_p2+1\n",
    "        \n",
    "    "
   ]
  },
  {
   "cell_type": "code",
   "execution_count": 131,
   "metadata": {},
   "outputs": [],
   "source": [
    "Player_2_bowler = [] \n",
    "for i in player_2['Bowler']: \n",
    "    if i not in Player_2_bowler: \n",
    "        Player_2_bowler.append(i) \n",
    "        \n",
    "Player_2_bowler\n",
    "\n",
    "Player_out_by = [] \n",
    "for i in player_2['Bowler']: \n",
    "        Player_out_by.append(i) \n",
    "        \n",
    "Player_2_out_by=Player_out_by[len(Player_out_by)-1]"
   ]
  },
  {
   "cell_type": "code",
   "execution_count": 27,
   "metadata": {},
   "outputs": [
    {
     "data": {
      "text/html": [
       "<div>\n",
       "<style scoped>\n",
       "    .dataframe tbody tr th:only-of-type {\n",
       "        vertical-align: middle;\n",
       "    }\n",
       "\n",
       "    .dataframe tbody tr th {\n",
       "        vertical-align: top;\n",
       "    }\n",
       "\n",
       "    .dataframe thead th {\n",
       "        text-align: right;\n",
       "    }\n",
       "</style>\n",
       "<table border=\"1\" class=\"dataframe\">\n",
       "  <thead>\n",
       "    <tr style=\"text-align: right;\">\n",
       "      <th></th>\n",
       "      <th>Bowler</th>\n",
       "      <th>Commentary</th>\n",
       "      <th>ICC_ID</th>\n",
       "      <th>Inning.1</th>\n",
       "      <th>Score</th>\n",
       "      <th>cBalls</th>\n",
       "    </tr>\n",
       "  </thead>\n",
       "  <tbody>\n",
       "    <tr>\n",
       "      <th>5</th>\n",
       "      <td>Harmison</td>\n",
       "      <td>Harmison to Jayasuriya, 1 wide, way outside of...</td>\n",
       "      <td>2388</td>\n",
       "      <td>1</td>\n",
       "      <td>1w</td>\n",
       "      <td>0.4</td>\n",
       "    </tr>\n",
       "    <tr>\n",
       "      <th>6</th>\n",
       "      <td>Harmison</td>\n",
       "      <td>Harmison to Jayasuriya, no run, better, straig...</td>\n",
       "      <td>2388</td>\n",
       "      <td>1</td>\n",
       "      <td>0</td>\n",
       "      <td>0.4</td>\n",
       "    </tr>\n",
       "    <tr>\n",
       "      <th>7</th>\n",
       "      <td>Harmison</td>\n",
       "      <td>Harmison to Jayasuriya, no run, bouncer, and c...</td>\n",
       "      <td>2388</td>\n",
       "      <td>1</td>\n",
       "      <td>0</td>\n",
       "      <td>0.5</td>\n",
       "    </tr>\n",
       "    <tr>\n",
       "      <th>8</th>\n",
       "      <td>Harmison</td>\n",
       "      <td>Harmison to Jayasuriya, 1 run, good running. D...</td>\n",
       "      <td>2388</td>\n",
       "      <td>1</td>\n",
       "      <td>1</td>\n",
       "      <td>0.6</td>\n",
       "    </tr>\n",
       "    <tr>\n",
       "      <th>9</th>\n",
       "      <td>Ali</td>\n",
       "      <td>Ali to Jayasuriya, FOUR runs, Kabir Ali starts...</td>\n",
       "      <td>2388</td>\n",
       "      <td>1</td>\n",
       "      <td>4</td>\n",
       "      <td>1.1</td>\n",
       "    </tr>\n",
       "  </tbody>\n",
       "</table>\n",
       "</div>"
      ],
      "text/plain": [
       "     Bowler                                         Commentary  ICC_ID  \\\n",
       "5  Harmison  Harmison to Jayasuriya, 1 wide, way outside of...    2388   \n",
       "6  Harmison  Harmison to Jayasuriya, no run, better, straig...    2388   \n",
       "7  Harmison  Harmison to Jayasuriya, no run, bouncer, and c...    2388   \n",
       "8  Harmison  Harmison to Jayasuriya, 1 run, good running. D...    2388   \n",
       "9       Ali  Ali to Jayasuriya, FOUR runs, Kabir Ali starts...    2388   \n",
       "\n",
       "   Inning.1 Score  cBalls  \n",
       "5         1    1w     0.4  \n",
       "6         1     0     0.4  \n",
       "7         1     0     0.5  \n",
       "8         1     1     0.6  \n",
       "9         1     4     1.1  "
      ]
     },
     "execution_count": 27,
     "metadata": {},
     "output_type": "execute_result"
    }
   ],
   "source": [
    "player_2.head()"
   ]
  },
  {
   "cell_type": "markdown",
   "metadata": {},
   "source": [
    "# Player_3"
   ]
  },
  {
   "cell_type": "code",
   "execution_count": 28,
   "metadata": {},
   "outputs": [],
   "source": [
    "new_data2=new_data1.replace(to_replace = res[2], value =a[2]) "
   ]
  },
  {
   "cell_type": "code",
   "execution_count": 29,
   "metadata": {},
   "outputs": [
    {
     "data": {
      "text/plain": [
       "'Jayawardene,'"
      ]
     },
     "execution_count": 29,
     "metadata": {},
     "output_type": "execute_result"
    }
   ],
   "source": [
    "pl3=str(res[2])\n",
    "pl3"
   ]
  },
  {
   "cell_type": "code",
   "execution_count": 160,
   "metadata": {},
   "outputs": [],
   "source": [
    "player_3=aa.get_group(pl3)\n",
    "single_run_p3=0\n",
    "double_run_p3=0\n",
    "thiree_run_p3=0\n",
    "sixes_p3=0\n",
    "foures_p3=0\n",
    "Balls_played_p3=0\n",
    "for i in player_3['Score']:\n",
    "    if(i=='1'):\n",
    "        single_run_p3=single_run_p3+1\n",
    "    \n",
    "for i in player_3['Score']:\n",
    "    if(i=='2'):\n",
    "        double_run_p3=double_run_p3+1\n",
    "        \n",
    "for i in player_3['Score']:\n",
    "    if(i=='3'):\n",
    "        thiree_run_p3=thiree_run_p3+1\n",
    "\n",
    "for i in player_3['Score']:\n",
    "    if(i=='6'):\n",
    "        sixes_p3=sixes_p3+1\n",
    "        \n",
    "for i in player_3['Score']:\n",
    "    if(i=='4'):\n",
    "        foures_p3=foures_p3+1\n",
    "        \n",
    "for i in player_3['Score']:\n",
    "    Balls_played_p3=Balls_played_p3+1\n",
    "        \n",
    "    "
   ]
  },
  {
   "cell_type": "code",
   "execution_count": 161,
   "metadata": {},
   "outputs": [],
   "source": [
    "Player_3_bowler = [] \n",
    "for i in player_3['Bowler']: \n",
    "    if i not in Player_3_bowler: \n",
    "        Player_3_bowler.append(i) \n",
    "        \n",
    "Player_3_bowler\n",
    "\n",
    "Player_out_by = [] \n",
    "for i in player_3['Bowler']: \n",
    "        Player_out_by.append(i) \n",
    "        \n",
    "Player_3_out_by=Player_out_by[len(Player_out_by)-1]"
   ]
  },
  {
   "cell_type": "markdown",
   "metadata": {},
   "source": [
    "# Player_4"
   ]
  },
  {
   "cell_type": "code",
   "execution_count": 31,
   "metadata": {},
   "outputs": [
    {
     "data": {
      "text/plain": [
       "'Sangakkara,'"
      ]
     },
     "execution_count": 31,
     "metadata": {},
     "output_type": "execute_result"
    }
   ],
   "source": [
    "pl4=str(res[3])\n",
    "pl4"
   ]
  },
  {
   "cell_type": "code",
   "execution_count": 32,
   "metadata": {},
   "outputs": [],
   "source": [
    "new_data3=new_data2.replace(to_replace = res[3], value =a[3]) "
   ]
  },
  {
   "cell_type": "code",
   "execution_count": 163,
   "metadata": {},
   "outputs": [],
   "source": [
    "player_4=aa.get_group(pl4)\n",
    "single_run_p4=0\n",
    "double_run_p4=0\n",
    "thiree_run_p4=0\n",
    "sixes_p4=0\n",
    "foures_p4=0\n",
    "Balls_played_p4=0\n",
    "for i in player_4['Score']:\n",
    "    if(i=='1'):\n",
    "        single_run_p4=single_run_p4+1\n",
    "    \n",
    "for i in player_4['Score']:\n",
    "    if(i=='2'):\n",
    "        double_run_p4=double_run_p4+1\n",
    "        \n",
    "for i in player_4['Score']:\n",
    "    if(i=='3'):\n",
    "        thiree_run_p4=thiree_run_p4+1\n",
    "\n",
    "for i in player_4['Score']:\n",
    "    if(i=='6'):\n",
    "        sixes_p4=sixes_p4+1\n",
    "        \n",
    "for i in player_4['Score']:\n",
    "    if(i=='4'):\n",
    "        foures_p4=foures_p4+1\n",
    "        \n",
    "for i in player_4['Score']:\n",
    "    Balls_played_p4=Balls_played_p4+1\n",
    "        \n",
    "    "
   ]
  },
  {
   "cell_type": "code",
   "execution_count": 164,
   "metadata": {},
   "outputs": [],
   "source": [
    "Player_4_bowler = [] \n",
    "for i in player_4['Bowler']: \n",
    "    if i not in Player_4_bowler: \n",
    "        Player_4_bowler.append(i) \n",
    "        \n",
    "Player_4_bowler\n",
    "\n",
    "Player_out_by = [] \n",
    "for i in player_4['Bowler']: \n",
    "        Player_out_by.append(i) \n",
    "        \n",
    "Player_4_out_by=Player_out_by[len(Player_out_by)-1]"
   ]
  },
  {
   "cell_type": "code",
   "execution_count": 165,
   "metadata": {},
   "outputs": [
    {
     "data": {
      "text/plain": [
       "'Dilshan,'"
      ]
     },
     "execution_count": 165,
     "metadata": {},
     "output_type": "execute_result"
    }
   ],
   "source": [
    "ply5=str(res[4])\n",
    "ply5"
   ]
  },
  {
   "cell_type": "markdown",
   "metadata": {},
   "source": [
    "# Player_5"
   ]
  },
  {
   "cell_type": "code",
   "execution_count": 35,
   "metadata": {},
   "outputs": [],
   "source": [
    "new_data4=new_data3.replace(to_replace = res[4], value =a[4]) "
   ]
  },
  {
   "cell_type": "code",
   "execution_count": 166,
   "metadata": {},
   "outputs": [],
   "source": [
    "player_5=aa.get_group(ply5)\n",
    "single_run_p5=0\n",
    "double_run_p5=0\n",
    "thiree_run_p5=0\n",
    "sixes_p5=0\n",
    "foures_p5=0\n",
    "Balls_played_p5=0\n",
    "for i in player_5['Score']:\n",
    "    if(i=='1'):\n",
    "        single_run_p5=single_run_p5+1\n",
    "    \n",
    "for i in player_5['Score']:\n",
    "    if(i=='2'):\n",
    "        double_run_p5=double_run_p5+1\n",
    "        \n",
    "for i in player_5['Score']:\n",
    "    if(i=='3'):\n",
    "        thiree_run_p5=thiree_run_p5+1\n",
    "\n",
    "for i in player_5['Score']:\n",
    "    if(i=='6'):\n",
    "        sixes_p5=sixes_p5+1\n",
    "        \n",
    "for i in player_5['Score']:\n",
    "    if(i=='4'):\n",
    "        foures_p5=foures_p5+1\n",
    "        \n",
    "for i in player_5['Score']:\n",
    "    Balls_played_p5=Balls_played_p5+1\n",
    "        \n",
    "    "
   ]
  },
  {
   "cell_type": "code",
   "execution_count": 167,
   "metadata": {},
   "outputs": [],
   "source": [
    "Player_5_bowler = [] \n",
    "for i in player_5['Bowler']: \n",
    "    if i not in Player_5_bowler: \n",
    "        Player_5_bowler.append(i) \n",
    "        \n",
    "Player_5_bowler\n",
    "\n",
    "Player_out_by = [] \n",
    "for i in player_5['Bowler']: \n",
    "        Player_out_by.append(i) \n",
    "        \n",
    "Player_5_out_by=Player_out_by[len(Player_out_by)-1]"
   ]
  },
  {
   "cell_type": "code",
   "execution_count": 171,
   "metadata": {},
   "outputs": [
    {
     "data": {
      "text/plain": [
       "11"
      ]
     },
     "execution_count": 171,
     "metadata": {},
     "output_type": "execute_result"
    }
   ],
   "source": [
    "Balls_played_p5"
   ]
  },
  {
   "cell_type": "markdown",
   "metadata": {},
   "source": [
    "# Player_6"
   ]
  },
  {
   "cell_type": "code",
   "execution_count": 38,
   "metadata": {},
   "outputs": [
    {
     "data": {
      "text/plain": [
       "'Arnold,'"
      ]
     },
     "execution_count": 38,
     "metadata": {},
     "output_type": "execute_result"
    }
   ],
   "source": [
    "ply6=str(res[5])\n",
    "ply6"
   ]
  },
  {
   "cell_type": "code",
   "execution_count": 39,
   "metadata": {},
   "outputs": [],
   "source": [
    "new_data5=new_data4.replace(to_replace = res[5], value =a[5]) "
   ]
  },
  {
   "cell_type": "code",
   "execution_count": 172,
   "metadata": {},
   "outputs": [],
   "source": [
    "player_6=aa.get_group(ply6)\n",
    "single_run_p6=0\n",
    "double_run_p6=0\n",
    "thiree_run_p6=0\n",
    "sixes_p6=0\n",
    "foures_p6=0\n",
    "Balls_played_p6=0\n",
    "for i in player_6['Score']:\n",
    "    if(i=='1'):\n",
    "        single_run_p6=single_run_p6+1\n",
    "    \n",
    "for i in player_6['Score']:\n",
    "    if(i=='2'):\n",
    "        double_run_p6=double_run_p6+1\n",
    "        \n",
    "for i in player_6['Score']:\n",
    "    if(i=='3'):\n",
    "        thiree_run_p6=thiree_run_p6+1\n",
    "\n",
    "for i in player_6['Score']:\n",
    "    if(i=='6'):\n",
    "        sixes_p6=sixes_p6+1\n",
    "        \n",
    "for i in player_6['Score']:\n",
    "    if(i=='4'):\n",
    "        foures_p6=foures_p6+1\n",
    "        \n",
    "for i in player_6['Score']:\n",
    "    Balls_played_p6=Balls_played_p6+1\n",
    "        \n",
    "    "
   ]
  },
  {
   "cell_type": "code",
   "execution_count": 174,
   "metadata": {},
   "outputs": [],
   "source": [
    "Player_6_bowler = [] \n",
    "for i in player_6['Bowler']: \n",
    "    if i not in Player_6_bowler: \n",
    "        Player_6_bowler.append(i) \n",
    "        \n",
    "Player_6_bowler\n",
    "\n",
    "Player_out_by = [] \n",
    "for i in player_6['Bowler']: \n",
    "        Player_out_by.append(i) \n",
    "        \n",
    "Player_6_out_by=Player_out_by[len(Player_out_by)-1]"
   ]
  },
  {
   "cell_type": "code",
   "execution_count": 173,
   "metadata": {},
   "outputs": [
    {
     "data": {
      "text/plain": [
       "8"
      ]
     },
     "execution_count": 173,
     "metadata": {},
     "output_type": "execute_result"
    }
   ],
   "source": [
    "Balls_played_p6"
   ]
  },
  {
   "cell_type": "markdown",
   "metadata": {},
   "source": [
    "# Player_7"
   ]
  },
  {
   "cell_type": "code",
   "execution_count": 42,
   "metadata": {},
   "outputs": [
    {
     "data": {
      "text/plain": [
       "'Maharoof,'"
      ]
     },
     "execution_count": 42,
     "metadata": {},
     "output_type": "execute_result"
    }
   ],
   "source": [
    "ply7=str(res[6])\n",
    "ply7"
   ]
  },
  {
   "cell_type": "code",
   "execution_count": 43,
   "metadata": {},
   "outputs": [],
   "source": [
    "new_data6=new_data5.replace(to_replace = res[6], value =a[6]) "
   ]
  },
  {
   "cell_type": "code",
   "execution_count": 175,
   "metadata": {},
   "outputs": [],
   "source": [
    "player_7=aa.get_group(ply7)\n",
    "single_run_p7=0\n",
    "double_run_p7=0\n",
    "thiree_run_p7=0\n",
    "sixes_p7=0\n",
    "foures_p7=0\n",
    "Balls_played_p7=0\n",
    "for i in player_7['Score']:\n",
    "    if(i=='1'):\n",
    "        single_run_p7=single_run_p7+1\n",
    "    \n",
    "for i in player_7['Score']:\n",
    "    if(i=='2'):\n",
    "        double_run_p7=double_run_p7+1\n",
    "        \n",
    "for i in player_7['Score']:\n",
    "    if(i=='3'):\n",
    "        thiree_run_p7=thiree_run_p7+1\n",
    "\n",
    "for i in player_7['Score']:\n",
    "    if(i=='6'):\n",
    "        sixes_p7=sixes_p7+1\n",
    "        \n",
    "for i in player_7['Score']:\n",
    "    if(i=='4'):\n",
    "        foures_p7=foures_p7+1\n",
    "        \n",
    "for i in player_7['Score']:\n",
    "    Balls_played_p7=Balls_played_p7+1\n",
    "        \n",
    "    "
   ]
  },
  {
   "cell_type": "code",
   "execution_count": 176,
   "metadata": {},
   "outputs": [],
   "source": [
    "Player_7_bowler = [] \n",
    "for i in player_7['Bowler']: \n",
    "    if i not in Player_7_bowler: \n",
    "        Player_7_bowler.append(i) \n",
    "        \n",
    "Player_7_bowler\n",
    "\n",
    "Player_out_by = [] \n",
    "for i in player_7['Bowler']: \n",
    "        Player_out_by.append(i) \n",
    "        \n",
    "Player_7_out_by=Player_out_by[len(Player_out_by)-1]"
   ]
  },
  {
   "cell_type": "code",
   "execution_count": 177,
   "metadata": {},
   "outputs": [
    {
     "data": {
      "text/plain": [
       "52"
      ]
     },
     "execution_count": 177,
     "metadata": {},
     "output_type": "execute_result"
    }
   ],
   "source": [
    "Balls_played_p7"
   ]
  },
  {
   "cell_type": "markdown",
   "metadata": {},
   "source": [
    "# Player_8"
   ]
  },
  {
   "cell_type": "code",
   "execution_count": 46,
   "metadata": {},
   "outputs": [
    {
     "data": {
      "text/plain": [
       "'Vaas,'"
      ]
     },
     "execution_count": 46,
     "metadata": {},
     "output_type": "execute_result"
    }
   ],
   "source": [
    "ply8=str(res[7])\n",
    "ply8"
   ]
  },
  {
   "cell_type": "code",
   "execution_count": 47,
   "metadata": {},
   "outputs": [],
   "source": [
    "new_data7=new_data6.replace(to_replace = res[7], value =a[7]) "
   ]
  },
  {
   "cell_type": "code",
   "execution_count": 178,
   "metadata": {},
   "outputs": [],
   "source": [
    "player_8=aa.get_group(ply8)\n",
    "single_run_p8=0\n",
    "double_run_p8=0\n",
    "thiree_run_p8=0\n",
    "sixes_p8=0\n",
    "foures_p8=0\n",
    "Balls_played_p8=0\n",
    "for i in player_8['Score']:\n",
    "    if(i=='1'):\n",
    "        single_run_p8=single_run_p8+1\n",
    "    \n",
    "for i in player_8['Score']:\n",
    "    if(i=='2'):\n",
    "        double_run_p8=double_run_p8+1\n",
    "        \n",
    "for i in player_8['Score']:\n",
    "    if(i=='3'):\n",
    "        thiree_run_p8=thiree_run_p8+1\n",
    "\n",
    "for i in player_8['Score']:\n",
    "    if(i=='6'):\n",
    "        sixes_p8=sixes_p8+1\n",
    "        \n",
    "for i in player_8['Score']:\n",
    "    if(i=='4'):\n",
    "        foures_p8=foures_p8+1\n",
    "        \n",
    "for i in player_8['Score']:\n",
    "    Balls_played_p8=Balls_played_p8+1\n",
    "        \n",
    "    "
   ]
  },
  {
   "cell_type": "code",
   "execution_count": 179,
   "metadata": {},
   "outputs": [],
   "source": [
    "Player_8_bowler = [] \n",
    "for i in player_8['Bowler']: \n",
    "    if i not in Player_8_bowler: \n",
    "        Player_8_bowler.append(i) \n",
    "        \n",
    "Player_8_bowler\n",
    "\n",
    "Player_out_by = [] \n",
    "for i in player_8['Bowler']: \n",
    "        Player_out_by.append(i) \n",
    "        \n",
    "Player_8_out_by=Player_out_by[len(Player_out_by)-1]"
   ]
  },
  {
   "cell_type": "code",
   "execution_count": 180,
   "metadata": {},
   "outputs": [
    {
     "data": {
      "text/plain": [
       "16"
      ]
     },
     "execution_count": 180,
     "metadata": {},
     "output_type": "execute_result"
    }
   ],
   "source": [
    "Balls_played_p8"
   ]
  },
  {
   "cell_type": "markdown",
   "metadata": {},
   "source": [
    "# Player_9"
   ]
  },
  {
   "cell_type": "code",
   "execution_count": 50,
   "metadata": {},
   "outputs": [
    {
     "data": {
      "text/plain": [
       "'Bandara,'"
      ]
     },
     "execution_count": 50,
     "metadata": {},
     "output_type": "execute_result"
    }
   ],
   "source": [
    "ply9=str(res[8])\n",
    "ply9"
   ]
  },
  {
   "cell_type": "code",
   "execution_count": 51,
   "metadata": {},
   "outputs": [],
   "source": [
    "new_data8=new_data7.replace(to_replace = res[8], value =a[8]) "
   ]
  },
  {
   "cell_type": "code",
   "execution_count": 182,
   "metadata": {},
   "outputs": [],
   "source": [
    "player_9=aa.get_group(ply9)\n",
    "single_run_p9=0\n",
    "double_run_p9=0\n",
    "thiree_run_p9=0\n",
    "sixes_p9=0\n",
    "foures_p9=0\n",
    "Balls_played_p9=0\n",
    "for i in player_9['Score']:\n",
    "    if(i=='1'):\n",
    "        single_run_p9=single_run_p9+1\n",
    "    \n",
    "for i in player_9['Score']:\n",
    "    if(i=='2'):\n",
    "        double_run_p9=double_run_p9+1\n",
    "        \n",
    "for i in player_9['Score']:\n",
    "    if(i=='3'):\n",
    "        thiree_run_p9=thiree_run_p9+1\n",
    "\n",
    "for i in player_9['Score']:\n",
    "    if(i=='6'):\n",
    "        sixes_p9=sixes_p9+1\n",
    "        \n",
    "for i in player_9['Score']:\n",
    "    if(i=='4'):\n",
    "        foures_p9=foures_p9+1\n",
    "        \n",
    "for i in player_9['Score']:\n",
    "    Balls_played_p9=Balls_played_p9+1\n",
    "        \n",
    "    "
   ]
  },
  {
   "cell_type": "code",
   "execution_count": 183,
   "metadata": {},
   "outputs": [],
   "source": [
    "Player_9_bowler = [] \n",
    "for i in player_9['Bowler']: \n",
    "    if i not in Player_9_bowler: \n",
    "        Player_9_bowler.append(i) \n",
    "        \n",
    "Player_9_bowler\n",
    "\n",
    "Player_out_by = [] \n",
    "for i in player_9['Bowler']: \n",
    "        Player_out_by.append(i) \n",
    "        \n",
    "Player_9_out_by=Player_out_by[len(Player_out_by)-1]"
   ]
  },
  {
   "cell_type": "code",
   "execution_count": 184,
   "metadata": {},
   "outputs": [
    {
     "data": {
      "text/plain": [
       "23"
      ]
     },
     "execution_count": 184,
     "metadata": {},
     "output_type": "execute_result"
    }
   ],
   "source": [
    "Balls_played_p9"
   ]
  },
  {
   "cell_type": "markdown",
   "metadata": {},
   "source": [
    "# Player_10"
   ]
  },
  {
   "cell_type": "code",
   "execution_count": 54,
   "metadata": {},
   "outputs": [
    {
     "data": {
      "text/plain": [
       "'Trescothick,'"
      ]
     },
     "execution_count": 54,
     "metadata": {},
     "output_type": "execute_result"
    }
   ],
   "source": [
    "ply10=str(res[9])\n",
    "ply10"
   ]
  },
  {
   "cell_type": "code",
   "execution_count": 55,
   "metadata": {},
   "outputs": [],
   "source": [
    "new_data9=new_data8.replace(to_replace = res[9], value =a[9]) "
   ]
  },
  {
   "cell_type": "code",
   "execution_count": 185,
   "metadata": {},
   "outputs": [],
   "source": [
    "player_10=aa.get_group(ply10)\n",
    "single_run_p10=0\n",
    "double_run_p10=0\n",
    "thiree_run_p10=0\n",
    "sixes_p10=0\n",
    "foures_p10=0\n",
    "Balls_played_p10=0\n",
    "for i in player_10['Score']:\n",
    "    if(i=='1'):\n",
    "        single_run_p10=single_run_p10+1\n",
    "    \n",
    "for i in player_10['Score']:\n",
    "    if(i=='2'):\n",
    "        double_run_p10=double_run_p10+1\n",
    "        \n",
    "for i in player_10['Score']:\n",
    "    if(i=='3'):\n",
    "        thiree_run_p10=thiree_run_p10+1\n",
    "\n",
    "for i in player_10['Score']:\n",
    "    if(i=='6'):\n",
    "        sixes_p10=sixes_p10+1\n",
    "        \n",
    "for i in player_10['Score']:\n",
    "    if(i=='4'):\n",
    "        foures_p10=foures_p10+1\n",
    "        \n",
    "for i in player_10['Score']:\n",
    "    Balls_played_p10=Balls_played_p10+1\n",
    "        \n",
    "    "
   ]
  },
  {
   "cell_type": "code",
   "execution_count": 186,
   "metadata": {},
   "outputs": [],
   "source": [
    "Player_10_bowler = [] \n",
    "for i in player_10['Bowler']: \n",
    "    if i not in Player_10_bowler: \n",
    "        Player_10_bowler.append(i) \n",
    "        \n",
    "Player_10_bowler\n",
    "\n",
    "Player_out_by = [] \n",
    "for i in player_10['Bowler']: \n",
    "        Player_out_by.append(i) \n",
    "        \n",
    "Player_10_out_by=Player_out_by[len(Player_out_by)-1]"
   ]
  },
  {
   "cell_type": "code",
   "execution_count": 187,
   "metadata": {},
   "outputs": [
    {
     "data": {
      "text/plain": [
       "41"
      ]
     },
     "execution_count": 187,
     "metadata": {},
     "output_type": "execute_result"
    }
   ],
   "source": [
    "Balls_played_p10"
   ]
  },
  {
   "cell_type": "markdown",
   "metadata": {},
   "source": [
    "# Player_11"
   ]
  },
  {
   "cell_type": "code",
   "execution_count": 58,
   "metadata": {},
   "outputs": [
    {
     "data": {
      "text/plain": [
       "'Cook,'"
      ]
     },
     "execution_count": 58,
     "metadata": {},
     "output_type": "execute_result"
    }
   ],
   "source": [
    "ply11=str(res[10])\n",
    "ply11"
   ]
  },
  {
   "cell_type": "code",
   "execution_count": 59,
   "metadata": {},
   "outputs": [],
   "source": [
    "new_data10=new_data9.replace(to_replace = res[10], value =a[10]) "
   ]
  },
  {
   "cell_type": "code",
   "execution_count": 189,
   "metadata": {},
   "outputs": [],
   "source": [
    "player_11=aa.get_group(ply11)\n",
    "single_run_p11=0\n",
    "double_run_p11=0\n",
    "thiree_run_p11=0\n",
    "sixes_p11=0\n",
    "foures_p11=0\n",
    "Balls_played_p11=0\n",
    "for i in player_11['Score']:\n",
    "    if(i=='1'):\n",
    "        single_run_p11=single_run_p11+1\n",
    "    \n",
    "for i in player_11['Score']:\n",
    "    if(i=='2'):\n",
    "        double_run_p11=double_run_p11+1\n",
    "        \n",
    "for i in player_11['Score']:\n",
    "    if(i=='3'):\n",
    "        thiree_run_p11=thiree_run_p11+1\n",
    "\n",
    "for i in player_11['Score']:\n",
    "    if(i=='6'):\n",
    "        sixes_p11=sixes_p11+1\n",
    "        \n",
    "for i in player_11['Score']:\n",
    "    if(i=='4'):\n",
    "        foures_p11=foures_p11+1\n",
    "        \n",
    "for i in player_11['Score']:\n",
    "    Balls_played_p11=Balls_played_p11+1\n",
    "        \n",
    "    "
   ]
  },
  {
   "cell_type": "code",
   "execution_count": 190,
   "metadata": {},
   "outputs": [],
   "source": [
    "Player_11_bowler = [] \n",
    "for i in player_11['Bowler']: \n",
    "    if i not in Player_11_bowler: \n",
    "        Player_11_bowler.append(i) \n",
    "        \n",
    "Player_11_bowler\n",
    "\n",
    "Player_out_by = [] \n",
    "for i in player_11['Bowler']: \n",
    "        Player_out_by.append(i) \n",
    "        \n",
    "Player_11_out_by=Player_out_by[len(Player_out_by)-1]"
   ]
  },
  {
   "cell_type": "code",
   "execution_count": 191,
   "metadata": {},
   "outputs": [
    {
     "data": {
      "text/plain": [
       "39"
      ]
     },
     "execution_count": 191,
     "metadata": {},
     "output_type": "execute_result"
    }
   ],
   "source": [
    "Balls_played_p11"
   ]
  },
  {
   "cell_type": "markdown",
   "metadata": {},
   "source": [
    "# Player_12"
   ]
  },
  {
   "cell_type": "code",
   "execution_count": 62,
   "metadata": {},
   "outputs": [
    {
     "data": {
      "text/plain": [
       "'Bell,'"
      ]
     },
     "execution_count": 62,
     "metadata": {},
     "output_type": "execute_result"
    }
   ],
   "source": [
    "ply12=str(res[11])\n",
    "ply12"
   ]
  },
  {
   "cell_type": "code",
   "execution_count": 63,
   "metadata": {},
   "outputs": [],
   "source": [
    "new_data11=new_data10.replace(to_replace = res[11], value =a[11]) "
   ]
  },
  {
   "cell_type": "code",
   "execution_count": 195,
   "metadata": {},
   "outputs": [],
   "source": [
    "player_12=aa.get_group(ply12)\n",
    "single_run_p12=0\n",
    "double_run_p12=0\n",
    "thiree_run_p12=0\n",
    "sixes_p12=0\n",
    "foures_p12=0\n",
    "Balls_played_p12=0\n",
    "for i in player_12['Score']:\n",
    "    if(i=='1'):\n",
    "        single_run_p12=single_run_p12+1\n",
    "    \n",
    "for i in player_12['Score']:\n",
    "    if(i=='2'):\n",
    "        double_run_p12=double_run_p12+1\n",
    "        \n",
    "for i in player_12['Score']:\n",
    "    if(i=='3'):\n",
    "        thiree_run_p12=thiree_run_p12+1\n",
    "\n",
    "for i in player_12['Score']:\n",
    "    if(i=='6'):\n",
    "        sixes_p12=sixes_p12+1\n",
    "        \n",
    "for i in player_12['Score']:\n",
    "    if(i=='4'):\n",
    "        foures_p12=foures_p12+1\n",
    "        \n",
    "for i in player_12['Score']:\n",
    "    Balls_played_p12=Balls_played_p12+1\n",
    "        \n",
    "    "
   ]
  },
  {
   "cell_type": "code",
   "execution_count": 193,
   "metadata": {},
   "outputs": [],
   "source": [
    "Player_12_bowler = [] \n",
    "for i in player_12['Bowler']: \n",
    "    if i not in Player_12_bowler: \n",
    "        Player_12_bowler.append(i) \n",
    "        \n",
    "Player_12_bowler\n",
    "\n",
    "Player_out_by = [] \n",
    "for i in player_12['Bowler']: \n",
    "        Player_out_by.append(i) \n",
    "        \n",
    "Player_12_out_by=Player_out_by[len(Player_out_by)-1]"
   ]
  },
  {
   "cell_type": "code",
   "execution_count": 196,
   "metadata": {},
   "outputs": [
    {
     "data": {
      "text/plain": [
       "48"
      ]
     },
     "execution_count": 196,
     "metadata": {},
     "output_type": "execute_result"
    }
   ],
   "source": [
    "Balls_played_p12"
   ]
  },
  {
   "cell_type": "markdown",
   "metadata": {},
   "source": [
    "# Player_13"
   ]
  },
  {
   "cell_type": "code",
   "execution_count": 66,
   "metadata": {},
   "outputs": [
    {
     "data": {
      "text/plain": [
       "'Strauss,'"
      ]
     },
     "execution_count": 66,
     "metadata": {},
     "output_type": "execute_result"
    }
   ],
   "source": [
    "ply13=str(res[12])\n",
    "ply13"
   ]
  },
  {
   "cell_type": "code",
   "execution_count": 67,
   "metadata": {},
   "outputs": [],
   "source": [
    "new_data12=new_data11.replace(to_replace = res[12], value =a[12]) "
   ]
  },
  {
   "cell_type": "code",
   "execution_count": 202,
   "metadata": {},
   "outputs": [],
   "source": [
    "player_13=aa.get_group(ply13)\n",
    "single_run_p13=0\n",
    "double_run_p13=0\n",
    "thiree_run_p13=0\n",
    "sixes_p13=0\n",
    "foures_p13=0\n",
    "Balls_played_p13=0\n",
    "for i in player_13['Score']:\n",
    "    if(i=='1'):\n",
    "        single_run_p13=single_run_p13+1\n",
    "    \n",
    "for i in player_13['Score']:\n",
    "    if(i=='2'):\n",
    "        double_run_p13=double_run_p13+1\n",
    "        \n",
    "for i in player_13['Score']:\n",
    "    if(i=='3'):\n",
    "        thiree_run_p13=thiree_run_p13+1\n",
    "\n",
    "for i in player_13['Score']:\n",
    "    if(i=='6'):\n",
    "        sixes_p13=sixes_p13+1\n",
    "        \n",
    "for i in player_13['Score']:\n",
    "    if(i=='4'):\n",
    "        foures_p13=foures_p13+1\n",
    "        \n",
    "for i in player_13['Score']:\n",
    "    Balls_played_p13=Balls_played_p13+1\n",
    "        \n",
    "    "
   ]
  },
  {
   "cell_type": "code",
   "execution_count": 203,
   "metadata": {},
   "outputs": [],
   "source": [
    "Player_13_bowler = [] \n",
    "for i in player_13['Bowler']: \n",
    "    if i not in Player_13_bowler: \n",
    "        Player_13_bowler.append(i) \n",
    "        \n",
    "Player_13_bowler\n",
    "\n",
    "Player_out_by = [] \n",
    "for i in player_13['Bowler']: \n",
    "        Player_out_by.append(i) \n",
    "        \n",
    "Player_13_out_by=Player_out_by[len(Player_out_by)-1]"
   ]
  },
  {
   "cell_type": "code",
   "execution_count": 207,
   "metadata": {},
   "outputs": [
    {
     "data": {
      "text/plain": [
       "44"
      ]
     },
     "execution_count": 207,
     "metadata": {},
     "output_type": "execute_result"
    }
   ],
   "source": [
    "Balls_played_p13"
   ]
  },
  {
   "cell_type": "markdown",
   "metadata": {},
   "source": [
    "# Player_14"
   ]
  },
  {
   "cell_type": "code",
   "execution_count": 70,
   "metadata": {},
   "outputs": [
    {
     "data": {
      "text/plain": [
       "'Dalrymple,'"
      ]
     },
     "execution_count": 70,
     "metadata": {},
     "output_type": "execute_result"
    }
   ],
   "source": [
    "ply14=str(res[13])\n",
    "ply14"
   ]
  },
  {
   "cell_type": "code",
   "execution_count": 71,
   "metadata": {},
   "outputs": [],
   "source": [
    "new_data13=new_data12.replace(to_replace = res[13], value =a[13]) "
   ]
  },
  {
   "cell_type": "code",
   "execution_count": 208,
   "metadata": {},
   "outputs": [],
   "source": [
    "player_14=aa.get_group(ply14)\n",
    "single_run_p14=0\n",
    "double_run_p14=0\n",
    "thiree_run_p14=0\n",
    "sixes_p14=0\n",
    "foures_p14=0\n",
    "Balls_played_p14=0\n",
    "for i in player_14['Score']:\n",
    "    if(i=='1'):\n",
    "        single_run_p14=single_run_p14+1\n",
    "    \n",
    "for i in player_14['Score']:\n",
    "    if(i=='2'):\n",
    "        double_run_p14=double_run_p14+1\n",
    "        \n",
    "for i in player_14['Score']:\n",
    "    if(i=='3'):\n",
    "        thiree_run_p14=thiree_run_p14+1\n",
    "\n",
    "for i in player_14['Score']:\n",
    "    if(i=='6'):\n",
    "        sixes_p14=sixes_p14+1\n",
    "        \n",
    "for i in player_14['Score']:\n",
    "    if(i=='4'):\n",
    "        foures_p14=foures_p14+1\n",
    "        \n",
    "for i in player_14['Score']:\n",
    "    Balls_played_p14=Balls_played_p14+1\n",
    "        \n",
    "    "
   ]
  },
  {
   "cell_type": "code",
   "execution_count": 209,
   "metadata": {},
   "outputs": [],
   "source": [
    "Player_14_bowler = [] \n",
    "for i in player_14['Bowler']: \n",
    "    if i not in Player_14_bowler: \n",
    "        Player_14_bowler.append(i) \n",
    "        \n",
    "Player_14_bowler\n",
    "\n",
    "Player_out_by = [] \n",
    "for i in player_14['Bowler']: \n",
    "        Player_out_by.append(i) \n",
    "        \n",
    "Player_14_out_by=Player_out_by[len(Player_out_by)-1]"
   ]
  },
  {
   "cell_type": "code",
   "execution_count": 212,
   "metadata": {},
   "outputs": [
    {
     "data": {
      "text/plain": [
       "51"
      ]
     },
     "execution_count": 212,
     "metadata": {},
     "output_type": "execute_result"
    }
   ],
   "source": [
    "Balls_played_p14"
   ]
  },
  {
   "cell_type": "markdown",
   "metadata": {},
   "source": [
    "# Player_15"
   ]
  },
  {
   "cell_type": "code",
   "execution_count": 74,
   "metadata": {},
   "outputs": [
    {
     "data": {
      "text/plain": [
       "'Solanki,'"
      ]
     },
     "execution_count": 74,
     "metadata": {},
     "output_type": "execute_result"
    }
   ],
   "source": [
    "ply15=str(res[14])\n",
    "ply15"
   ]
  },
  {
   "cell_type": "code",
   "execution_count": 75,
   "metadata": {},
   "outputs": [],
   "source": [
    "new_data14=new_data13.replace(to_replace = res[14], value =a[14]) "
   ]
  },
  {
   "cell_type": "code",
   "execution_count": 213,
   "metadata": {},
   "outputs": [],
   "source": [
    "player_15=aa.get_group(ply15)\n",
    "single_run_p15=0\n",
    "double_run_p15=0\n",
    "thiree_run_p15=0\n",
    "sixes_p15=0\n",
    "foures_p15=0\n",
    "Balls_played_p15=0\n",
    "for i in player_15['Score']:\n",
    "    if(i=='1'):\n",
    "        single_run_p15=single_run_p15+1\n",
    "    \n",
    "for i in player_15['Score']:\n",
    "    if(i=='2'):\n",
    "        double_run_p15=double_run_p15+1\n",
    "        \n",
    "for i in player_15['Score']:\n",
    "    if(i=='3'):\n",
    "        thiree_run_p15=thiree_run_p15+1\n",
    "\n",
    "for i in player_15['Score']:\n",
    "    if(i=='6'):\n",
    "        sixes_p15=sixes_p15+1\n",
    "        \n",
    "for i in player_15['Score']:\n",
    "    if(i=='4'):\n",
    "        foures_p15=foures_p15+1\n",
    "        \n",
    "for i in player_15['Score']:\n",
    "    Balls_played_p15=Balls_played_p15+1\n",
    "        \n",
    "    "
   ]
  },
  {
   "cell_type": "code",
   "execution_count": 214,
   "metadata": {},
   "outputs": [],
   "source": [
    "Player_15_bowler = [] \n",
    "for i in player_15['Bowler']: \n",
    "    if i not in Player_15_bowler: \n",
    "        Player_15_bowler.append(i) \n",
    "        \n",
    "Player_15_bowler\n",
    "\n",
    "Player_out_by = [] \n",
    "for i in player_15['Bowler']: \n",
    "        Player_out_by.append(i) \n",
    "        \n",
    "Player_15_out_by=Player_out_by[len(Player_out_by)-1]"
   ]
  },
  {
   "cell_type": "code",
   "execution_count": 215,
   "metadata": {},
   "outputs": [
    {
     "data": {
      "text/plain": [
       "18"
      ]
     },
     "execution_count": 215,
     "metadata": {},
     "output_type": "execute_result"
    }
   ],
   "source": [
    "Balls_played_p15"
   ]
  },
  {
   "cell_type": "markdown",
   "metadata": {},
   "source": [
    "# Player_16"
   ]
  },
  {
   "cell_type": "code",
   "execution_count": 78,
   "metadata": {},
   "outputs": [
    {
     "data": {
      "text/plain": [
       "'Jones,'"
      ]
     },
     "execution_count": 78,
     "metadata": {},
     "output_type": "execute_result"
    }
   ],
   "source": [
    "ply16=str(res[15])\n",
    "ply16"
   ]
  },
  {
   "cell_type": "code",
   "execution_count": 79,
   "metadata": {},
   "outputs": [],
   "source": [
    "new_data15=new_data14.replace(to_replace = res[15], value =a[15]) "
   ]
  },
  {
   "cell_type": "code",
   "execution_count": 216,
   "metadata": {},
   "outputs": [],
   "source": [
    "player_16=aa.get_group(ply16)\n",
    "single_run_p16=0\n",
    "double_run_p16=0\n",
    "thiree_run_p16=0\n",
    "sixes_p16=0\n",
    "foures_p16=0\n",
    "Balls_played_p16=0\n",
    "for i in player_16['Score']:\n",
    "    if(i=='1'):\n",
    "        single_run_p16=single_run_p16+1\n",
    "    \n",
    "for i in player_16['Score']:\n",
    "    if(i=='2'):\n",
    "        double_run_p16=double_run_p16+1\n",
    "        \n",
    "for i in player_16['Score']:\n",
    "    if(i=='3'):\n",
    "        thiree_run_p16=thiree_run_p16+1\n",
    "\n",
    "for i in player_16['Score']:\n",
    "    if(i=='6'):\n",
    "        sixes_p16=sixes_p16+1\n",
    "        \n",
    "for i in player_16['Score']:\n",
    "    if(i=='4'):\n",
    "        foures_p16=foures_p16+1\n",
    "        \n",
    "for i in player_16['Score']:\n",
    "    Balls_played_p16=Balls_played_p16+1\n",
    "        \n",
    "    "
   ]
  },
  {
   "cell_type": "code",
   "execution_count": 217,
   "metadata": {},
   "outputs": [],
   "source": [
    "Player_16_bowler = [] \n",
    "for i in player_16['Bowler']: \n",
    "    if i not in Player_16_bowler: \n",
    "        Player_16_bowler.append(i) \n",
    "        \n",
    "Player_16_bowler\n",
    "\n",
    "Player_out_by = [] \n",
    "for i in player_16['Bowler']: \n",
    "        Player_out_by.append(i) \n",
    "        \n",
    "Player_16_out_by=Player_out_by[len(Player_out_by)-1]"
   ]
  },
  {
   "cell_type": "code",
   "execution_count": 218,
   "metadata": {},
   "outputs": [
    {
     "data": {
      "text/plain": [
       "20"
      ]
     },
     "execution_count": 218,
     "metadata": {},
     "output_type": "execute_result"
    }
   ],
   "source": [
    "Balls_played_p16"
   ]
  },
  {
   "cell_type": "markdown",
   "metadata": {},
   "source": [
    "# Player_17"
   ]
  },
  {
   "cell_type": "code",
   "execution_count": 82,
   "metadata": {},
   "outputs": [
    {
     "data": {
      "text/plain": [
       "'Bresnan,'"
      ]
     },
     "execution_count": 82,
     "metadata": {},
     "output_type": "execute_result"
    }
   ],
   "source": [
    "ply17=str(res[16])\n",
    "ply17"
   ]
  },
  {
   "cell_type": "code",
   "execution_count": 83,
   "metadata": {},
   "outputs": [],
   "source": [
    "new_data16=new_data15.replace(to_replace = res[16], value =a[16]) "
   ]
  },
  {
   "cell_type": "code",
   "execution_count": 219,
   "metadata": {},
   "outputs": [],
   "source": [
    "player_17=aa.get_group(ply17)\n",
    "single_run_p17=0\n",
    "double_run_p17=0\n",
    "thiree_run_p17=0\n",
    "sixes_p17=0\n",
    "foures_p17=0\n",
    "Balls_played_p17=0\n",
    "for i in player_17['Score']:\n",
    "    if(i=='1'):\n",
    "        single_run_p17=single_run_p17+1\n",
    "    \n",
    "for i in player_17['Score']:\n",
    "    if(i=='2'):\n",
    "        double_run_p17=double_run_p17+1\n",
    "        \n",
    "for i in player_17['Score']:\n",
    "    if(i=='3'):\n",
    "        thiree_run_p17=thiree_run_p17+1\n",
    "\n",
    "for i in player_17['Score']:\n",
    "    if(i=='6'):\n",
    "        sixes_p17=sixes_p17+1\n",
    "        \n",
    "for i in player_17['Score']:\n",
    "    if(i=='4'):\n",
    "        foures_p17=foures_p17+1\n",
    "        \n",
    "for i in player_17['Score']:\n",
    "    Balls_played_p17=Balls_played_p17+1\n",
    "        \n",
    "    "
   ]
  },
  {
   "cell_type": "code",
   "execution_count": 220,
   "metadata": {},
   "outputs": [],
   "source": [
    "Player_17_bowler = [] \n",
    "for i in player_17['Bowler']: \n",
    "    if i not in Player_17_bowler: \n",
    "        Player_17_bowler.append(i) \n",
    "        \n",
    "Player_17_bowler\n",
    "\n",
    "Player_out_by = [] \n",
    "for i in player_17['Bowler']: \n",
    "        Player_out_by.append(i) \n",
    "        \n",
    "Player_17_out_by=Player_out_by[len(Player_out_by)-1]"
   ]
  },
  {
   "cell_type": "code",
   "execution_count": 221,
   "metadata": {},
   "outputs": [
    {
     "data": {
      "text/plain": [
       "13"
      ]
     },
     "execution_count": 221,
     "metadata": {},
     "output_type": "execute_result"
    }
   ],
   "source": [
    "Balls_played_p17"
   ]
  },
  {
   "cell_type": "markdown",
   "metadata": {},
   "source": [
    "# Player_18"
   ]
  },
  {
   "cell_type": "code",
   "execution_count": 86,
   "metadata": {},
   "outputs": [
    {
     "data": {
      "text/plain": [
       "'Plunkett,'"
      ]
     },
     "execution_count": 86,
     "metadata": {},
     "output_type": "execute_result"
    }
   ],
   "source": [
    "ply18=str(res[17])\n",
    "ply18"
   ]
  },
  {
   "cell_type": "code",
   "execution_count": 87,
   "metadata": {},
   "outputs": [],
   "source": [
    "new_data17=new_data16.replace(to_replace = res[17], value =a[17]) "
   ]
  },
  {
   "cell_type": "code",
   "execution_count": 222,
   "metadata": {},
   "outputs": [],
   "source": [
    "player_18=aa.get_group(ply18)\n",
    "single_run_p18=0\n",
    "double_run_p18=0\n",
    "thiree_run_p18=0\n",
    "sixes_p18=0\n",
    "foures_p18=0\n",
    "Balls_played_p18=0\n",
    "for i in player_18['Score']:\n",
    "    if(i=='1'):\n",
    "        single_run_p18=single_run_p18+1\n",
    "    \n",
    "for i in player_18['Score']:\n",
    "    if(i=='2'):\n",
    "        double_run_p18=double_run_p18+1\n",
    "        \n",
    "for i in player_18['Score']:\n",
    "    if(i=='3'):\n",
    "        thiree_run_p18=thiree_run_p18+1\n",
    "\n",
    "for i in player_18['Score']:\n",
    "    if(i=='6'):\n",
    "        sixes_p18=sixes_p18+1\n",
    "        \n",
    "for i in player_18['Score']:\n",
    "    if(i=='4'):\n",
    "        foures_p18=foures_p18+1\n",
    "        \n",
    "for i in player_18['Score']:\n",
    "    Balls_played_p18=Balls_played_p18+1\n",
    "        \n",
    "    "
   ]
  },
  {
   "cell_type": "code",
   "execution_count": 223,
   "metadata": {},
   "outputs": [],
   "source": [
    "Player_18_bowler = [] \n",
    "for i in player_18['Bowler']: \n",
    "    if i not in Player_18_bowler: \n",
    "        Player_18_bowler.append(i) \n",
    "        \n",
    "Player_18_bowler\n",
    "\n",
    "Player_out_by = [] \n",
    "for i in player_18['Bowler']: \n",
    "        Player_out_by.append(i) \n",
    "        \n",
    "Player_18_out_by=Player_out_by[len(Player_out_by)-1]"
   ]
  },
  {
   "cell_type": "code",
   "execution_count": 224,
   "metadata": {},
   "outputs": [
    {
     "data": {
      "text/plain": [
       "18"
      ]
     },
     "execution_count": 224,
     "metadata": {},
     "output_type": "execute_result"
    }
   ],
   "source": [
    "Balls_played_p18"
   ]
  },
  {
   "cell_type": "markdown",
   "metadata": {},
   "source": [
    "# Player_19"
   ]
  },
  {
   "cell_type": "code",
   "execution_count": 90,
   "metadata": {},
   "outputs": [
    {
     "data": {
      "text/plain": [
       "'Ali,'"
      ]
     },
     "execution_count": 90,
     "metadata": {},
     "output_type": "execute_result"
    }
   ],
   "source": [
    "ply19=str(res[18])\n",
    "ply19"
   ]
  },
  {
   "cell_type": "code",
   "execution_count": 91,
   "metadata": {},
   "outputs": [],
   "source": [
    "new_data18=new_data17.replace(to_replace = res[18], value =a[18]) "
   ]
  },
  {
   "cell_type": "code",
   "execution_count": 225,
   "metadata": {},
   "outputs": [],
   "source": [
    "player_19=aa.get_group(ply19)\n",
    "single_run_p19=0\n",
    "double_run_p19=0\n",
    "thiree_run_p19=0\n",
    "sixes_p19=0\n",
    "foures_p19=0\n",
    "Balls_played_p19=0\n",
    "for i in player_19['Score']:\n",
    "    if(i=='1'):\n",
    "        single_run_p19=single_run_p19+1\n",
    "    \n",
    "for i in player_19['Score']:\n",
    "    if(i=='2'):\n",
    "        double_run_p19=double_run_p19+1\n",
    "        \n",
    "for i in player_19['Score']:\n",
    "    if(i=='3'):\n",
    "        thiree_run_p19=thiree_run_p19+1\n",
    "\n",
    "for i in player_19['Score']:\n",
    "    if(i=='6'):\n",
    "        sixes_p19=sixes_p19+1\n",
    "        \n",
    "for i in player_19['Score']:\n",
    "    if(i=='4'):\n",
    "        foures_p19=foures_p19+1\n",
    "        \n",
    "for i in player_19['Score']:\n",
    "    Balls_played_p19=Balls_played_p19+1\n",
    "        \n",
    "    "
   ]
  },
  {
   "cell_type": "code",
   "execution_count": 226,
   "metadata": {},
   "outputs": [],
   "source": [
    "Player_19_bowler = [] \n",
    "for i in player_19['Bowler']: \n",
    "    if i not in Player_19_bowler: \n",
    "        Player_19_bowler.append(i) \n",
    "        \n",
    "Player_19_bowler\n",
    "\n",
    "Player_out_by = [] \n",
    "for i in player_19['Bowler']: \n",
    "        Player_out_by.append(i) \n",
    "        \n",
    "Player_19_out_by=Player_out_by[len(Player_out_by)-1]"
   ]
  },
  {
   "cell_type": "code",
   "execution_count": 227,
   "metadata": {},
   "outputs": [
    {
     "data": {
      "text/plain": [
       "1"
      ]
     },
     "execution_count": 227,
     "metadata": {},
     "output_type": "execute_result"
    }
   ],
   "source": [
    "Balls_played_p19"
   ]
  },
  {
   "cell_type": "markdown",
   "metadata": {},
   "source": [
    "# Player_20"
   ]
  },
  {
   "cell_type": "code",
   "execution_count": 94,
   "metadata": {},
   "outputs": [
    {
     "data": {
      "text/plain": [
       "'Harmison,'"
      ]
     },
     "execution_count": 94,
     "metadata": {},
     "output_type": "execute_result"
    }
   ],
   "source": [
    "ply20=str(res[19])\n",
    "ply20"
   ]
  },
  {
   "cell_type": "code",
   "execution_count": 95,
   "metadata": {},
   "outputs": [],
   "source": [
    "new_data19=new_data18.replace(to_replace = res[18], value =a[18]) "
   ]
  },
  {
   "cell_type": "code",
   "execution_count": 230,
   "metadata": {},
   "outputs": [],
   "source": [
    "player_20=aa.get_group(ply20)\n",
    "single_run_p20=0\n",
    "double_run_p20=0\n",
    "thiree_run_p20=0\n",
    "sixes_p20=0\n",
    "foures_p20=0\n",
    "Balls_played_p20=0\n",
    "for i in player_20['Score']:\n",
    "    if(i=='1'):\n",
    "        single_run_p20=single_run_p20+1\n",
    "    \n",
    "for i in player_20['Score']:\n",
    "    if(i=='2'):\n",
    "        double_run_p20=double_run_p20+1\n",
    "        \n",
    "for i in player_20['Score']:\n",
    "    if(i=='3'):\n",
    "        thiree_run_p20=thiree_run_p20+1\n",
    "\n",
    "for i in player_20['Score']:\n",
    "    if(i=='6'):\n",
    "        sixes_p20=sixes_p20+1\n",
    "        \n",
    "for i in player_20['Score']:\n",
    "    if(i=='4'):\n",
    "        foures_p20=foures_p20+1\n",
    "        \n",
    "for i in player_20['Score']:\n",
    "    Balls_played_p20=Balls_played_p20+1\n",
    "        \n",
    "    "
   ]
  },
  {
   "cell_type": "code",
   "execution_count": 229,
   "metadata": {},
   "outputs": [],
   "source": [
    "Player_20_bowler = [] \n",
    "for i in player_20['Bowler']: \n",
    "    if i not in Player_20_bowler: \n",
    "        Player_20_bowler.append(i) \n",
    "        \n",
    "Player_20_bowler\n",
    "\n",
    "Player_out_by = [] \n",
    "for i in player_20['Bowler']: \n",
    "        Player_out_by.append(i) \n",
    "        \n",
    "Player_20_out_by=Player_out_by[len(Player_out_by)-1]"
   ]
  },
  {
   "cell_type": "markdown",
   "metadata": {},
   "source": [
    "# Player_21"
   ]
  },
  {
   "cell_type": "markdown",
   "metadata": {},
   "source": [
    "# All Factors/ features in player_21 are null in Bating respectively."
   ]
  },
  {
   "cell_type": "markdown",
   "metadata": {},
   "source": [
    "# Player_22"
   ]
  },
  {
   "cell_type": "markdown",
   "metadata": {},
   "source": [
    "# All Factors/ features in player_21 are null in Bating respectively."
   ]
  },
  {
   "cell_type": "markdown",
   "metadata": {},
   "source": [
    "# Now Merging all things to make Final score card of the Batsman repectively."
   ]
  },
  {
   "cell_type": "code",
   "execution_count": 239,
   "metadata": {},
   "outputs": [
    {
     "data": {
      "text/plain": [
       "[24, 5, 2, 0, 5, 86]"
      ]
     },
     "execution_count": 239,
     "metadata": {},
     "output_type": "execute_result"
    }
   ],
   "source": [
    "l=[single_run_p1,double_run_p1,thiree_run_p1,sixes,foures_p1,Balls_played_p1]\n",
    "l"
   ]
  },
  {
   "cell_type": "code",
   "execution_count": 288,
   "metadata": {},
   "outputs": [],
   "source": [
    "p0=pd.DataFrame([single_run_p1,double_run_p1,thiree_run_p1,sixes_p1,foures_p1,Balls_played_p1,Player_1_out_by,Player_1_bowler],columns=[a[0]])\n",
    "p1=pd.DataFrame([single_run_p2,double_run_p2,thiree_run_p2,sixes_p2,foures_p2,Balls_played_p2,Player_2_out_by,Player_2_bowler],columns=[a[1]])\n",
    "p2=pd.DataFrame([single_run_p3,double_run_p3,thiree_run_p3,sixes_p3,foures_p3,Balls_played_p3,Player_3_out_by,Player_3_bowler],columns=[a[2]])\n",
    "p3=pd.DataFrame([single_run_p4,double_run_p4,thiree_run_p4,sixes_p4,foures_p4,Balls_played_p4,Player_4_out_by,Player_4_bowler],columns=[a[3]])\n",
    "p4=pd.DataFrame([single_run_p5,double_run_p5,thiree_run_p5,sixes_p5,foures_p5,Balls_played_p5,Player_5_out_by,Player_5_bowler],columns=[a[4]])\n",
    "p5=pd.DataFrame([single_run_p6,double_run_p6,thiree_run_p6,sixes_p6,foures_p6,Balls_played_p6,Player_6_out_by,Player_6_bowler],columns=[a[5]])\n",
    "p6=pd.DataFrame([single_run_p7,double_run_p7,thiree_run_p7,sixes_p7,foures_p7,Balls_played_p7,Player_7_out_by,Player_7_bowler],columns=[a[6]])\n",
    "p7=pd.DataFrame([single_run_p8,double_run_p8,thiree_run_p8,sixes_p8,foures_p8,Balls_played_p8,Player_8_out_by,Player_8_bowler],columns=[a[7]])\n",
    "p8=pd.DataFrame([single_run_p9,double_run_p9,thiree_run_p9,sixes_p9,foures_p9,Balls_played_p9,Player_9_out_by,Player_9_bowler],columns=[a[8]])\n",
    "p9=pd.DataFrame([single_run_p10,double_run_p10,thiree_run_p10,sixes_p10,foures_p10,Balls_played_p10,Player_10_out_by,Player_10_bowler],columns=[a[9]])\n",
    "p10=pd.DataFrame([single_run_p11,double_run_p11,thiree_run_p11,sixes_p11,foures_p11,Balls_played_p11,Player_11_out_by,Player_11_bowler],columns=[a[10]])\n",
    "p11=pd.DataFrame([single_run_p12,double_run_p12,thiree_run_p12,sixes_p12,foures_p12,Balls_played_p12,Player_12_out_by,Player_12_bowler],columns=[a[11]])\n",
    "p12=pd.DataFrame([single_run_p13,double_run_p13,thiree_run_p13,sixes_p13,foures_p13,Balls_played_p13,Player_13_out_by,Player_13_bowler],columns=[a[12]])\n",
    "p13=pd.DataFrame([single_run_p14,double_run_p14,thiree_run_p14,sixes_p14,foures_p14,Balls_played_p14,Player_14_out_by,Player_14_bowler],columns=[a[13]])\n",
    "p14=pd.DataFrame([single_run_p15,double_run_p15,thiree_run_p15,sixes_p15,foures_p15,Balls_played_p15,Player_15_out_by,Player_15_bowler],columns=[a[14]])\n",
    "p15=pd.DataFrame([single_run_p16,double_run_p16,thiree_run_p16,sixes_p16,foures_p16,Balls_played_p16,Player_16_out_by,Player_16_bowler],columns=[a[15]])\n",
    "p16=pd.DataFrame([single_run_p17,double_run_p17,thiree_run_p17,sixes_p17,foures_p17,Balls_played_p17,Player_17_out_by,Player_17_bowler],columns=[a[16]])\n",
    "p17=pd.DataFrame([single_run_p18,double_run_p18,thiree_run_p18,sixes_p18,foures_p18,Balls_played_p18,Player_18_out_by,Player_18_bowler],columns=[a[17]])\n",
    "p18=pd.DataFrame([single_run_p19,double_run_p19,thiree_run_p19,sixes_p19,foures_p19,Balls_played_p19,Player_19_out_by,Player_19_bowler],columns=[a[18]])\n",
    "p19=pd.DataFrame([single_run_p20,double_run_p20,thiree_run_p20,sixes_p20,foures_p20,Balls_played_p20,Player_20_out_by,Player_20_bowler],columns=[a[19]])"
   ]
  },
  {
   "cell_type": "code",
   "execution_count": 289,
   "metadata": {},
   "outputs": [],
   "source": [
    "index_ = ['Single_run', 'Double_run', 'Thriee run', 'four runs', 'Sixes run','Balls_played','Bowled_out_by','Bowlers name']"
   ]
  },
  {
   "cell_type": "code",
   "execution_count": 290,
   "metadata": {},
   "outputs": [],
   "source": [
    "p0.index=index_\n",
    "p1.index=index_\n",
    "p2.index=index_\n",
    "p3.index=index_\n",
    "p4.index=index_\n",
    "p5.index=index_\n",
    "p6.index=index_\n",
    "p7.index=index_\n",
    "p8.index=index_\n",
    "p9.index=index_\n",
    "p10.index=index_\n",
    "p11.index=index_\n",
    "p12.index=index_\n",
    "p13.index=index_\n",
    "p14.index=index_\n",
    "p15.index=index_\n",
    "p16.index=index_\n",
    "p17.index=index_\n",
    "p18.index=index_\n",
    "p19.index=index_"
   ]
  },
  {
   "cell_type": "code",
   "execution_count": 291,
   "metadata": {},
   "outputs": [],
   "source": [
    "pdList = [p0,p1,p2,p3,p4,p5,p6,p7,p8,p9,p10,p11,p12,p13,p14,p15,p16,p17,p18,p19]  \n",
    "new_df1 = pd.concat(pdList,axis=1)"
   ]
  },
  {
   "cell_type": "markdown",
   "metadata": {},
   "source": [
    "# FINAL_SCORECARD"
   ]
  },
  {
   "cell_type": "code",
   "execution_count": 292,
   "metadata": {},
   "outputs": [
    {
     "data": {
      "text/html": [
       "<div>\n",
       "<style scoped>\n",
       "    .dataframe tbody tr th:only-of-type {\n",
       "        vertical-align: middle;\n",
       "    }\n",
       "\n",
       "    .dataframe tbody tr th {\n",
       "        vertical-align: top;\n",
       "    }\n",
       "\n",
       "    .dataframe thead th {\n",
       "        text-align: right;\n",
       "    }\n",
       "</style>\n",
       "<table border=\"1\" class=\"dataframe\">\n",
       "  <thead>\n",
       "    <tr style=\"text-align: right;\">\n",
       "      <th></th>\n",
       "      <th>Warushavithana Upul Tharanga</th>\n",
       "      <th>Sanath Teran Jayasuriya</th>\n",
       "      <th>Denagamage Proboth Mahela de Silva Jayawarden</th>\n",
       "      <th>Kumar Chokshanada Sangakkara</th>\n",
       "      <th>Tillakaratne Mudiyanselage Dilshan</th>\n",
       "      <th>Russel Premakumaran Arnold</th>\n",
       "      <th>Mohamed Farveez Maharoof</th>\n",
       "      <th>Warnakulasuriya Patabendige Ushantha Joseph Chaminda Vaas</th>\n",
       "      <th>Herath Mudiyanselage Charitha Malinga Bandara</th>\n",
       "      <th>Marcus Edward Trescothick</th>\n",
       "      <th>Alastair Nathan Cook</th>\n",
       "      <th>Ian Ronald Bell</th>\n",
       "      <th>Andrew John Strauss</th>\n",
       "      <th>James William Murray Dalrymple</th>\n",
       "      <th>Vikram Singh Solanki</th>\n",
       "      <th>Geraint Owen Jones</th>\n",
       "      <th>Timothy Thomas Bresnan</th>\n",
       "      <th>Liam Edward Plunkett</th>\n",
       "      <th>Kabir Ali</th>\n",
       "      <th>Stephen James Harmison</th>\n",
       "    </tr>\n",
       "  </thead>\n",
       "  <tbody>\n",
       "    <tr>\n",
       "      <th>Single_run</th>\n",
       "      <td>24</td>\n",
       "      <td>2</td>\n",
       "      <td>31</td>\n",
       "      <td>4</td>\n",
       "      <td>3</td>\n",
       "      <td>4</td>\n",
       "      <td>21</td>\n",
       "      <td>7</td>\n",
       "      <td>7</td>\n",
       "      <td>10</td>\n",
       "      <td>7</td>\n",
       "      <td>18</td>\n",
       "      <td>15</td>\n",
       "      <td>21</td>\n",
       "      <td>8</td>\n",
       "      <td>7</td>\n",
       "      <td>4</td>\n",
       "      <td>9</td>\n",
       "      <td>0</td>\n",
       "      <td>2</td>\n",
       "    </tr>\n",
       "    <tr>\n",
       "      <th>Double_run</th>\n",
       "      <td>5</td>\n",
       "      <td>0</td>\n",
       "      <td>15</td>\n",
       "      <td>1</td>\n",
       "      <td>0</td>\n",
       "      <td>0</td>\n",
       "      <td>2</td>\n",
       "      <td>0</td>\n",
       "      <td>0</td>\n",
       "      <td>0</td>\n",
       "      <td>0</td>\n",
       "      <td>4</td>\n",
       "      <td>5</td>\n",
       "      <td>4</td>\n",
       "      <td>1</td>\n",
       "      <td>3</td>\n",
       "      <td>3</td>\n",
       "      <td>2</td>\n",
       "      <td>0</td>\n",
       "      <td>0</td>\n",
       "    </tr>\n",
       "    <tr>\n",
       "      <th>Thriee run</th>\n",
       "      <td>2</td>\n",
       "      <td>0</td>\n",
       "      <td>1</td>\n",
       "      <td>0</td>\n",
       "      <td>0</td>\n",
       "      <td>1</td>\n",
       "      <td>0</td>\n",
       "      <td>0</td>\n",
       "      <td>1</td>\n",
       "      <td>0</td>\n",
       "      <td>0</td>\n",
       "      <td>0</td>\n",
       "      <td>0</td>\n",
       "      <td>0</td>\n",
       "      <td>0</td>\n",
       "      <td>0</td>\n",
       "      <td>0</td>\n",
       "      <td>0</td>\n",
       "      <td>0</td>\n",
       "      <td>0</td>\n",
       "    </tr>\n",
       "    <tr>\n",
       "      <th>four runs</th>\n",
       "      <td>0</td>\n",
       "      <td>0</td>\n",
       "      <td>0</td>\n",
       "      <td>0</td>\n",
       "      <td>0</td>\n",
       "      <td>0</td>\n",
       "      <td>2</td>\n",
       "      <td>0</td>\n",
       "      <td>1</td>\n",
       "      <td>1</td>\n",
       "      <td>0</td>\n",
       "      <td>0</td>\n",
       "      <td>0</td>\n",
       "      <td>0</td>\n",
       "      <td>0</td>\n",
       "      <td>1</td>\n",
       "      <td>0</td>\n",
       "      <td>2</td>\n",
       "      <td>0</td>\n",
       "      <td>0</td>\n",
       "    </tr>\n",
       "    <tr>\n",
       "      <th>Sixes run</th>\n",
       "      <td>5</td>\n",
       "      <td>3</td>\n",
       "      <td>9</td>\n",
       "      <td>0</td>\n",
       "      <td>1</td>\n",
       "      <td>0</td>\n",
       "      <td>5</td>\n",
       "      <td>0</td>\n",
       "      <td>3</td>\n",
       "      <td>7</td>\n",
       "      <td>8</td>\n",
       "      <td>1</td>\n",
       "      <td>5</td>\n",
       "      <td>1</td>\n",
       "      <td>0</td>\n",
       "      <td>1</td>\n",
       "      <td>2</td>\n",
       "      <td>1</td>\n",
       "      <td>0</td>\n",
       "      <td>0</td>\n",
       "    </tr>\n",
       "    <tr>\n",
       "      <th>Balls_played</th>\n",
       "      <td>86</td>\n",
       "      <td>21</td>\n",
       "      <td>88</td>\n",
       "      <td>15</td>\n",
       "      <td>11</td>\n",
       "      <td>8</td>\n",
       "      <td>52</td>\n",
       "      <td>16</td>\n",
       "      <td>23</td>\n",
       "      <td>41</td>\n",
       "      <td>39</td>\n",
       "      <td>48</td>\n",
       "      <td>44</td>\n",
       "      <td>51</td>\n",
       "      <td>18</td>\n",
       "      <td>20</td>\n",
       "      <td>13</td>\n",
       "      <td>18</td>\n",
       "      <td>1</td>\n",
       "      <td>4</td>\n",
       "    </tr>\n",
       "    <tr>\n",
       "      <th>Bowled_out_by</th>\n",
       "      <td>Bell</td>\n",
       "      <td>Harmison</td>\n",
       "      <td>Dalrymple</td>\n",
       "      <td>Harmison</td>\n",
       "      <td>Plunkett</td>\n",
       "      <td>Bell</td>\n",
       "      <td>Ali</td>\n",
       "      <td>Plunkett</td>\n",
       "      <td>Ali</td>\n",
       "      <td>Malinga</td>\n",
       "      <td>Fernando</td>\n",
       "      <td>Bandara</td>\n",
       "      <td>Dilshan</td>\n",
       "      <td>Fernando</td>\n",
       "      <td>Bandara</td>\n",
       "      <td>Dilshan</td>\n",
       "      <td>Malinga</td>\n",
       "      <td>Malinga</td>\n",
       "      <td>Fernando</td>\n",
       "      <td>Malinga</td>\n",
       "    </tr>\n",
       "    <tr>\n",
       "      <th>Bowlers name</th>\n",
       "      <td>[Harmison, Ali, Bresnan, Plunkett, Dalrymple, ...</td>\n",
       "      <td>[Harmison, Ali]</td>\n",
       "      <td>[Harmison, Plunkett, Bresnan, Dalrymple, Solan...</td>\n",
       "      <td>[Dalrymple, Ali, Harmison]</td>\n",
       "      <td>[Harmison, Plunkett, Ali]</td>\n",
       "      <td>[Plunkett, Bell, Dalrymple]</td>\n",
       "      <td>[Bell, Dalrymple, Bresnan, Plunkett, Harmison,...</td>\n",
       "      <td>[Dalrymple, Bresnan, Plunkett]</td>\n",
       "      <td>[Plunkett, Bresnan, Harmison, Ali]</td>\n",
       "      <td>[Vaas, Malinga, Fernando]</td>\n",
       "      <td>[Vaas, Malinga, Fernando]</td>\n",
       "      <td>[Vaas, Fernando, Maharoof, Bandara, Dilshan]</td>\n",
       "      <td>[Fernando, Vaas, Maharoof, Bandara, Dilshan]</td>\n",
       "      <td>[Bandara, Dilshan, Jayasuriya, Malinga, Fernando]</td>\n",
       "      <td>[Dilshan, Bandara]</td>\n",
       "      <td>[Bandara, Dilshan, Jayasuriya]</td>\n",
       "      <td>[Malinga, Bandara]</td>\n",
       "      <td>[Bandara, Jayasuriya, Fernando, Malinga]</td>\n",
       "      <td>[Fernando]</td>\n",
       "      <td>[Fernando, Malinga]</td>\n",
       "    </tr>\n",
       "  </tbody>\n",
       "</table>\n",
       "</div>"
      ],
      "text/plain": [
       "                                    Warushavithana Upul Tharanga  \\\n",
       "Single_run                                                    24   \n",
       "Double_run                                                     5   \n",
       "Thriee run                                                     2   \n",
       "four runs                                                      0   \n",
       "Sixes run                                                      5   \n",
       "Balls_played                                                  86   \n",
       "Bowled_out_by                                               Bell   \n",
       "Bowlers name   [Harmison, Ali, Bresnan, Plunkett, Dalrymple, ...   \n",
       "\n",
       "              Sanath Teran Jayasuriya  \\\n",
       "Single_run                          2   \n",
       "Double_run                          0   \n",
       "Thriee run                          0   \n",
       "four runs                           0   \n",
       "Sixes run                           3   \n",
       "Balls_played                       21   \n",
       "Bowled_out_by                Harmison   \n",
       "Bowlers name          [Harmison, Ali]   \n",
       "\n",
       "                   Denagamage Proboth Mahela de Silva Jayawarden  \\\n",
       "Single_run                                                    31   \n",
       "Double_run                                                    15   \n",
       "Thriee run                                                     1   \n",
       "four runs                                                      0   \n",
       "Sixes run                                                      9   \n",
       "Balls_played                                                  88   \n",
       "Bowled_out_by                                          Dalrymple   \n",
       "Bowlers name   [Harmison, Plunkett, Bresnan, Dalrymple, Solan...   \n",
       "\n",
       "              Kumar Chokshanada Sangakkara  \\\n",
       "Single_run                                4   \n",
       "Double_run                                1   \n",
       "Thriee run                                0   \n",
       "four runs                                 0   \n",
       "Sixes run                                 0   \n",
       "Balls_played                             15   \n",
       "Bowled_out_by                      Harmison   \n",
       "Bowlers name     [Dalrymple, Ali, Harmison]   \n",
       "\n",
       "              Tillakaratne Mudiyanselage Dilshan   Russel Premakumaran Arnold  \\\n",
       "Single_run                                     3                            4   \n",
       "Double_run                                     0                            0   \n",
       "Thriee run                                     0                            1   \n",
       "four runs                                      0                            0   \n",
       "Sixes run                                      1                            0   \n",
       "Balls_played                                  11                            8   \n",
       "Bowled_out_by                           Plunkett                         Bell   \n",
       "Bowlers name           [Harmison, Plunkett, Ali]  [Plunkett, Bell, Dalrymple]   \n",
       "\n",
       "                                       Mohamed Farveez Maharoof  \\\n",
       "Single_run                                                    21   \n",
       "Double_run                                                     2   \n",
       "Thriee run                                                     0   \n",
       "four runs                                                      2   \n",
       "Sixes run                                                      5   \n",
       "Balls_played                                                  52   \n",
       "Bowled_out_by                                                Ali   \n",
       "Bowlers name   [Bell, Dalrymple, Bresnan, Plunkett, Harmison,...   \n",
       "\n",
       "              Warnakulasuriya Patabendige Ushantha Joseph Chaminda Vaas  \\\n",
       "Single_run                                                     7          \n",
       "Double_run                                                     0          \n",
       "Thriee run                                                     0          \n",
       "four runs                                                      0          \n",
       "Sixes run                                                      0          \n",
       "Balls_played                                                  16          \n",
       "Bowled_out_by                                           Plunkett          \n",
       "Bowlers name                      [Dalrymple, Bresnan, Plunkett]          \n",
       "\n",
       "              Herath Mudiyanselage Charitha Malinga Bandara  \\\n",
       "Single_run                                                 7   \n",
       "Double_run                                                 0   \n",
       "Thriee run                                                 1   \n",
       "four runs                                                  1   \n",
       "Sixes run                                                  3   \n",
       "Balls_played                                              23   \n",
       "Bowled_out_by                                            Ali   \n",
       "Bowlers name              [Plunkett, Bresnan, Harmison, Ali]   \n",
       "\n",
       "              Marcus Edward Trescothick       Alastair Nathan Cook  \\\n",
       "Single_run                            10                          7   \n",
       "Double_run                             0                          0   \n",
       "Thriee run                             0                          0   \n",
       "four runs                              1                          0   \n",
       "Sixes run                              7                          8   \n",
       "Balls_played                          41                         39   \n",
       "Bowled_out_by                    Malinga                   Fernando   \n",
       "Bowlers name   [Vaas, Malinga, Fernando]  [Vaas, Malinga, Fernando]   \n",
       "\n",
       "                                            Ian Ronald Bell  \\\n",
       "Single_run                                               18   \n",
       "Double_run                                                4   \n",
       "Thriee run                                                0   \n",
       "four runs                                                 0   \n",
       "Sixes run                                                 1   \n",
       "Balls_played                                             48   \n",
       "Bowled_out_by                                       Bandara   \n",
       "Bowlers name   [Vaas, Fernando, Maharoof, Bandara, Dilshan]   \n",
       "\n",
       "                                       Andrew John Strauss  \\\n",
       "Single_run                                               15   \n",
       "Double_run                                                5   \n",
       "Thriee run                                                0   \n",
       "four runs                                                 0   \n",
       "Sixes run                                                 5   \n",
       "Balls_played                                             44   \n",
       "Bowled_out_by                                       Dilshan   \n",
       "Bowlers name   [Fernando, Vaas, Maharoof, Bandara, Dilshan]   \n",
       "\n",
       "                                  James William Murray Dalrymple  \\\n",
       "Single_run                                                    21   \n",
       "Double_run                                                     4   \n",
       "Thriee run                                                     0   \n",
       "four runs                                                      0   \n",
       "Sixes run                                                      1   \n",
       "Balls_played                                                  51   \n",
       "Bowled_out_by                                           Fernando   \n",
       "Bowlers name   [Bandara, Dilshan, Jayasuriya, Malinga, Fernando]   \n",
       "\n",
       "              Vikram Singh Solanki              Geraint Owen Jones  \\\n",
       "Single_run                       8                               7   \n",
       "Double_run                       1                               3   \n",
       "Thriee run                       0                               0   \n",
       "four runs                        0                               1   \n",
       "Sixes run                        0                               1   \n",
       "Balls_played                    18                              20   \n",
       "Bowled_out_by              Bandara                         Dilshan   \n",
       "Bowlers name    [Dilshan, Bandara]  [Bandara, Dilshan, Jayasuriya]   \n",
       "\n",
       "              Timothy Thomas Bresnan  \\\n",
       "Single_run                         4   \n",
       "Double_run                         3   \n",
       "Thriee run                         0   \n",
       "four runs                          0   \n",
       "Sixes run                          2   \n",
       "Balls_played                      13   \n",
       "Bowled_out_by                Malinga   \n",
       "Bowlers name      [Malinga, Bandara]   \n",
       "\n",
       "                                  Liam Edward Plunkett   Kabir Ali  \\\n",
       "Single_run                                            9           0   \n",
       "Double_run                                            2           0   \n",
       "Thriee run                                            0           0   \n",
       "four runs                                             2           0   \n",
       "Sixes run                                             1           0   \n",
       "Balls_played                                         18           1   \n",
       "Bowled_out_by                                   Malinga    Fernando   \n",
       "Bowlers name   [Bandara, Jayasuriya, Fernando, Malinga]  [Fernando]   \n",
       "\n",
       "              Stephen James Harmison  \n",
       "Single_run                         2  \n",
       "Double_run                         0  \n",
       "Thriee run                         0  \n",
       "four runs                          0  \n",
       "Sixes run                          0  \n",
       "Balls_played                       4  \n",
       "Bowled_out_by                Malinga  \n",
       "Bowlers name     [Fernando, Malinga]  "
      ]
     },
     "execution_count": 292,
     "metadata": {},
     "output_type": "execute_result"
    }
   ],
   "source": [
    "new_df1"
   ]
  },
  {
   "cell_type": "code",
   "execution_count": null,
   "metadata": {},
   "outputs": [],
   "source": []
  },
  {
   "cell_type": "code",
   "execution_count": null,
   "metadata": {},
   "outputs": [],
   "source": []
  }
 ],
 "metadata": {
  "kernelspec": {
   "display_name": "Python 3",
   "language": "python",
   "name": "python3"
  },
  "language_info": {
   "codemirror_mode": {
    "name": "ipython",
    "version": 3
   },
   "file_extension": ".py",
   "mimetype": "text/x-python",
   "name": "python",
   "nbconvert_exporter": "python",
   "pygments_lexer": "ipython3",
   "version": "3.7.0"
  }
 },
 "nbformat": 4,
 "nbformat_minor": 2
}
